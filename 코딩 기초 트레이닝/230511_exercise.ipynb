{
  "nbformat": 4,
  "nbformat_minor": 0,
  "metadata": {
    "colab": {
      "provenance": []
    },
    "kernelspec": {
      "name": "python3",
      "display_name": "Python 3"
    },
    "language_info": {
      "name": "python"
    }
  },
  "cells": [
    {
      "cell_type": "markdown",
      "source": [
        "## Day 13 리스트(배열)\n"
      ],
      "metadata": {
        "id": "PaKJfAzc-AFb"
      }
    },
    {
      "cell_type": "code",
      "source": [
        "def execution_time(func):\n",
        "    start_time = process_time()\n",
        "    print(func)\n",
        "    end_time = process_time()\n",
        "    print(f'프로그램을 수행하는데 {end_time - start_time}초가 걸렸습니다.')"
      ],
      "metadata": {
        "id": "-JxsjQVa_a8N"
      },
      "execution_count": null,
      "outputs": []
    },
    {
      "cell_type": "markdown",
      "source": [
        "### n 번째 원소부터\n"
      ],
      "metadata": {
        "id": "MZwt6xzc-N1_"
      }
    },
    {
      "cell_type": "code",
      "source": [
        "'''문제 설명\n",
        "정수 리스트 num_list와 정수 n이 주어질 때, \n",
        "n 번째 원소부터 마지막 원소까지의 모든 원소를 담은 리스트를 \n",
        "return하도록 solution 함수를 완성해주세요.\n",
        "\n",
        "2 ≤ num_list의 길이 ≤ 30\n",
        "1 ≤ num_list의 원소 ≤ 9\n",
        "1 ≤ n ≤ num_list의 길이\n",
        "'''\n",
        "\n",
        "num_list = [2, 1, 6]\n",
        "n = 3\n",
        "result = [6]\n",
        "\n",
        "num_list = [5, 2, 1, 7, 5]\n",
        "n = 2\n",
        "result = [2, 1, 7, 5]\n",
        "\n",
        "def solution(num_list, n):\n",
        "    return num_list[n-1:]\n",
        "\n",
        "solution(num_list, n)"
      ],
      "metadata": {
        "id": "zk1FWaPMGOzr",
        "colab": {
          "base_uri": "https://localhost:8080/"
        },
        "outputId": "964a9992-85a1-41d1-c4f1-85e3fd2a9150"
      },
      "execution_count": 1,
      "outputs": [
        {
          "output_type": "execute_result",
          "data": {
            "text/plain": [
              "[1, 7, 5]"
            ]
          },
          "metadata": {},
          "execution_count": 1
        }
      ]
    },
    {
      "cell_type": "markdown",
      "source": [
        "### 순서 바꾸기\n",
        "\n",
        "* extend는 list를 반환하지 않고 원래 list를 변형시킨다."
      ],
      "metadata": {
        "id": "HwKd1iL1DFXD"
      }
    },
    {
      "cell_type": "code",
      "source": [
        "'''\n",
        "문제 설명\n",
        "정수 리스트 num_list와 정수 n이 주어질 때, \n",
        "num_list를 n 번째 원소 이후의 원소들과 n 번째까지의 원소들로 나눠 \n",
        "n 번째 원소 이후의 원소들을 n 번째까지의 원소들 앞에 붙인 리스트를 \n",
        "return하도록 solution 함수를 완성해주세요.\n",
        "\n",
        "2 ≤ num_list의 길이 ≤ 30\n",
        "1 ≤ num_list의 원소 ≤ 9\n",
        "1 ≤ n ≤ num_list의 길이\n",
        "'''\n",
        "\n",
        "num_list = [2, 1, 6]\n",
        "n = 1\n",
        "result = [1, 6, 2]\n",
        "\n",
        "num_list = [5, 2, 1, 7, 5]\n",
        "n = 3\n",
        "result = [7, 5, 5, 2, 1]\n",
        "\n",
        "def solution(num_list, n):\n",
        "    answer = num_list[n:]\n",
        "    answer.extend(num_list[:n])\n",
        "    return answer\n",
        "solution(num_list, n)\n",
        "\n",
        "# def solution(num_list, n):\n",
        "#     return num_list[n:] + num_list[:n]"
      ],
      "metadata": {
        "colab": {
          "base_uri": "https://localhost:8080/"
        },
        "id": "yfypuBqcCM-P",
        "outputId": "46d678c8-0b50-4a41-d1b6-3281d63107d5"
      },
      "execution_count": 16,
      "outputs": [
        {
          "output_type": "execute_result",
          "data": {
            "text/plain": [
              "[7, 5, 5, 2, 1]"
            ]
          },
          "metadata": {},
          "execution_count": 16
        }
      ]
    },
    {
      "cell_type": "markdown",
      "source": [
        "### 왼쪽 오른쪽\n"
      ],
      "metadata": {
        "id": "Z3Z9aGzBIHWg"
      }
    },
    {
      "cell_type": "code",
      "source": [
        "'''\n",
        "문제 설명\n",
        "문자열 리스트 str_list에는 \"u\", \"d\", \"l\", \"r\" 네 개의 문자열이 \n",
        "여러 개 저장되어 있습니다. \n",
        "str_list에서 \"l\"과 \"r\" 중 먼저 나오는 문자열이 \"l\"이라면 \n",
        "해당 문자열을 기준으로 왼쪽에 있는 문자열들을 순서대로 담은 리스트를, \n",
        "먼저 나오는 문자열이 \"r\"이라면 해당 문자열을 기준으로 오른쪽에 있는 문자열들을 \n",
        "순서대로 담은 리스트를 return하도록 solution 함수를 완성해주세요. \n",
        "\"l\"이나 \"r\"이 없다면 빈 리스트를 return합니다.\n",
        "\n",
        "1 ≤ str_list의 길이 ≤ 20\n",
        "str_list는 \"u\", \"d\", \"l\", \"r\" 네 개의 문자열로 이루어져 있습니다.\n",
        "'''\n",
        "\n",
        "str_list = [\"u\", \"u\", \"l\", \"r\"]\n",
        "result = [\"u\", \"u\"]\n",
        "\n",
        "# str_list = [\"l\"]\n",
        "# result = []\n",
        "\n",
        "def solution(str_list):\n",
        "        if 'l' in str_list:\n",
        "            if 'r' in str_list: # 'l'과 'r'이 모두 str_list에 있을 때\n",
        "                if str_list.index('l') < str_list.index('r'):\n",
        "                    return str_list[:str_list.index('l')]\n",
        "                else:\n",
        "                    return str_list[str_list.index('r') + 1:]\n",
        "            elif 'r' not in str_list:\n",
        "                return str_list[:str_list.index('l')]\n",
        "        elif 'l' not in str_list:\n",
        "            if 'r' in str_list:\n",
        "                return str_list[str_list.index('r') + 1:]\n",
        "            elif 'r' not in str_list:\n",
        "                return []\n",
        "\n",
        "solution(str_list)\n",
        "\n",
        "# def solution(str_list):\n",
        "#     for i in range(len(str_list)):\n",
        "#         if str_list[i]=='l': return str_list[:i]\n",
        "#         elif str_list[i]=='r': return str_list[i+1:]\n",
        "#     return []"
      ],
      "metadata": {
        "colab": {
          "base_uri": "https://localhost:8080/"
        },
        "id": "IWr6iz_zF92n",
        "outputId": "b7df2b3e-e57f-4474-c73d-c5b66ed98e17"
      },
      "execution_count": 21,
      "outputs": [
        {
          "output_type": "execute_result",
          "data": {
            "text/plain": [
              "['u', 'u']"
            ]
          },
          "metadata": {},
          "execution_count": 21
        }
      ]
    },
    {
      "cell_type": "markdown",
      "source": [
        "### n 번째 원소까지\n"
      ],
      "metadata": {
        "id": "gpIhtRnPR2Y8"
      }
    },
    {
      "cell_type": "code",
      "source": [
        "'''\n",
        "문제 설명\n",
        "정수 리스트 num_list와 정수 n이 주어질 때, \n",
        "num_list의 첫 번째 원소부터 n 번째 원소까지의 모든 원소를 담은 리스트를 \n",
        "return하도록 solution 함수를 완성해주세요.\n",
        "\n",
        "2 ≤ num_list의 길이 ≤ 30\n",
        "1 ≤ num_list의 원소 ≤ 9\n",
        "1 ≤ n ≤ num_list의 길이 ___\n",
        "'''\n",
        "\n",
        "num_list = [2, 1, 6]\n",
        "n = 1\n",
        "result = [2]\n",
        "\n",
        "num_list = [5, 2, 1, 7, 5]\n",
        "n = 3\n",
        "result = [5, 2, 1]\n",
        "\n",
        "def solution(num_list, n):\n",
        "    return num_list[:n]\n",
        "solution(num_list, n)"
      ],
      "metadata": {
        "colab": {
          "base_uri": "https://localhost:8080/"
        },
        "id": "hu0v-CdeR4OL",
        "outputId": "c31e64c8-538b-4b4b-f838-2ef9ae684fa7"
      },
      "execution_count": 25,
      "outputs": [
        {
          "output_type": "execute_result",
          "data": {
            "text/plain": [
              "[5, 2, 1]"
            ]
          },
          "metadata": {},
          "execution_count": 25
        }
      ]
    },
    {
      "cell_type": "markdown",
      "source": [
        "### n개 간격의 원소들"
      ],
      "metadata": {
        "id": "MKcprDZvWcjp"
      }
    },
    {
      "cell_type": "code",
      "source": [
        "'''\n",
        "문제 설명\n",
        "정수 리스트 num_list와 정수 n이 주어질 때, \n",
        "num_list의 첫 번째 원소부터 마지막 원소까지 n개 간격으로 \n",
        "저장되어있는 원소들을 차례로 담은 리스트를 \n",
        "return하도록 solution 함수를 완성해주세요.\n",
        "\n",
        "5 ≤ num_list의 길이 ≤ 20\n",
        "1 ≤ num_list의 원소 ≤ 9\n",
        "1 ≤ n ≤ 4\n",
        "'''\n",
        "\n",
        "num_list = [4, 2, 6, 1, 7, 6]\n",
        "n = 2\n",
        "result = [4, 6, 7]\n",
        "\n",
        "num_list = [4, 2, 6, 1, 7, 6]\n",
        "n = 4\n",
        "result = [4, 7]\n",
        "\n",
        "def solution(num_list, n):\n",
        "    return num_list[::n]\n",
        "\n",
        "solution(num_list, n)"
      ],
      "metadata": {
        "colab": {
          "base_uri": "https://localhost:8080/"
        },
        "id": "u1rl_HWVWV1g",
        "outputId": "2e42e024-12cb-4bef-8763-33120df5c967"
      },
      "execution_count": 26,
      "outputs": [
        {
          "output_type": "execute_result",
          "data": {
            "text/plain": [
              "[4, 7]"
            ]
          },
          "metadata": {},
          "execution_count": 26
        }
      ]
    },
    {
      "cell_type": "markdown",
      "source": [
        "## Day 14 리스트(배열)"
      ],
      "metadata": {
        "id": "B3-_xDr7Xd8R"
      }
    },
    {
      "cell_type": "markdown",
      "source": [
        "### 홀수 vs 짝수\n"
      ],
      "metadata": {
        "id": "I-9T0jVsXiCg"
      }
    },
    {
      "cell_type": "code",
      "source": [
        "'''\n",
        "문제 설명\n",
        "정수 리스트 num_list가 주어집니다. \n",
        "가장 첫 번째 원소를 1번 원소라고 할 때, \n",
        "홀수 번째 원소들의 합과 짝수 번째 원소들의 합 중 큰 값을 \n",
        "return 하도록 solution 함수를 완성해주세요. 두 값이 같을 경우 그 값을 return합니다.\n",
        "\n",
        "문제 설명\n",
        "정수 리스트 num_list가 주어집니다. \n",
        "가장 첫 번째 원소를 1번 원소라고 할 때, \n",
        "홀수 번째 원소들의 합과 짝수 번째 원소들의 합 중 큰 값을 \n",
        "return 하도록 solution 함수를 완성해주세요. 두 값이 같을 경우 그 값을 return합니다.\n",
        "'''\n",
        "\n",
        "num_list = [4, 2, 6, 1, 7, 6]\n",
        "result = 17\n",
        "\n",
        "# num_list = [-1, 2, 5, 6, 3]\n",
        "# result = 8\n",
        "\n",
        "def solution(num_list):\n",
        "    even = 0\n",
        "    odd = 0\n",
        "    for i, n in enumerate(num_list):\n",
        "        if i % 2 == 0:\n",
        "            odd += n\n",
        "        else:\n",
        "            even += n\n",
        "    if even > odd:\n",
        "        return even\n",
        "    else:\n",
        "        return odd\n",
        "\n",
        "solution(num_list)\n",
        "\n",
        "# def solution(num_list):\n",
        "#     return max(sum(num_list[0: len(num_list): 2]), sum(num_list[1: len(num_list): 2]))"
      ],
      "metadata": {
        "colab": {
          "base_uri": "https://localhost:8080/"
        },
        "id": "QztG6WucXXG-",
        "outputId": "b1dfa7bc-e76a-4cbc-af45-beb75ee48257"
      },
      "execution_count": 28,
      "outputs": [
        {
          "output_type": "execute_result",
          "data": {
            "text/plain": [
              "17"
            ]
          },
          "metadata": {},
          "execution_count": 28
        }
      ]
    },
    {
      "cell_type": "markdown",
      "source": [
        "### 5명씩"
      ],
      "metadata": {
        "id": "TljsWQMgZkqX"
      }
    },
    {
      "cell_type": "code",
      "source": [
        "'''\n",
        "문제 설명\n",
        "최대 5명씩 탑승가능한 놀이기구를 타기 위해 \n",
        "줄을 서있는 사람들의 이름이 담긴 문자열 리스트 names가 주어질 때, \n",
        "앞에서 부터 5명씩 묶은 그룹의 가장 앞에 서있는 사람들의 이름을 담은 리스트를 \n",
        "return하도록 solution 함수를 완성해주세요. \n",
        "\n",
        "마지막 그룹이 5명이 되지 않더라도 가장 앞에 있는 사람의 이름을 포함합니다.\n",
        "\n",
        "5 ≤ names의 길이 ≤ 30\n",
        "1 ≤ names의 원소의 길이 ≤ 10\n",
        "names의 원소는 영어 알파벳 소문자로만 이루어져 있습니다.\n",
        "'''\n",
        "names = [\"nami\", \"ahri\", \"jayce\", \"garen\", \"ivern\", \"vex\", \"jinx\"]\n",
        "# result = [\"nami\", \"vex\"]\n",
        "\n",
        "def solution(names):\n",
        "    answer = []\n",
        "    result = []\n",
        "    try:\n",
        "        for i in range(round(len(names)/5) + 1):\n",
        "            answer.extend(names[5 * i:5 * (i + 1)])\n",
        "            result.append(answer[0])\n",
        "            print(answer)\n",
        "            answer = []\n",
        "        return result\n",
        "    except:\n",
        "        if result:\n",
        "            return result\n",
        "        else:\n",
        "            return names[0]\n",
        "\n",
        "solution(names)\n",
        "\n",
        "# def solution(names):\n",
        "#     return names[::5]"
      ],
      "metadata": {
        "colab": {
          "base_uri": "https://localhost:8080/"
        },
        "id": "8lynE48_Y87c",
        "outputId": "003f38cc-b456-46be-b112-1e4a1280ef48"
      },
      "execution_count": 53,
      "outputs": [
        {
          "output_type": "stream",
          "name": "stdout",
          "text": [
            "['nami', 'ahri', 'jayce', 'garen', 'ivern']\n",
            "['vex', 'jinx']\n"
          ]
        },
        {
          "output_type": "execute_result",
          "data": {
            "text/plain": [
              "['nami', 'vex']"
            ]
          },
          "metadata": {},
          "execution_count": 53
        }
      ]
    },
    {
      "cell_type": "markdown",
      "source": [
        "### 할 일 목록"
      ],
      "metadata": {
        "id": "LjxdnsydkWaj"
      }
    },
    {
      "cell_type": "code",
      "source": [
        "'''\n",
        "문제 설명\n",
        "오늘 해야 할 일이 담긴 문자열 배열 todo_list와 \n",
        "각각의 일을 지금 마쳤는지를 나타내는 boolean 배열 finished가 \n",
        "매개변수로 주어질 때, \n",
        "todo_list에서 아직 마치지 못한 일들을 순서대로 담은 문자열 배열을 \n",
        "return 하는 solution 함수를 작성해 주세요.\n",
        "\n",
        "1 ≤ todo_list의 길이 1 ≤ 100\n",
        "2 ≤ todo_list의 원소의 길이 ≤ 20\n",
        "todo_list의 원소는 영소문자로만 이루어져 있습니다.\n",
        "todo_list의 원소는 모두 서로 다릅니다.\n",
        "finished[i]는 true 또는 false이고 true는 todo_list[i]를 마쳤음을, \n",
        "false는 아직 마치지 못했음을 나타냅니다.\n",
        "아직 마치지 못한 일이 적어도 하나 있습니다.\n",
        "'''\n",
        "todo_list = [\"problemsolving\", \"practiceguitar\", \"swim\", \"studygraph\"]\n",
        "finished = [True, False, True, False]\n",
        "# result = [\"practiceguitar\", \"studygraph\"]\n",
        "\n",
        "def solution(todo_list, finished):\n",
        "    answer = []\n",
        "    for i in range(len(finished)):\n",
        "        if finished[i] == True:\n",
        "            pass\n",
        "        else:\n",
        "            answer.append(todo_list[i])\n",
        "\n",
        "    return answer\n",
        "\n",
        "solution(todo_list, finished)"
      ],
      "metadata": {
        "colab": {
          "base_uri": "https://localhost:8080/"
        },
        "id": "22Yg2BJeiqTJ",
        "outputId": "7f735130-1c7a-44c0-e245-128be32e7fc6"
      },
      "execution_count": 57,
      "outputs": [
        {
          "output_type": "execute_result",
          "data": {
            "text/plain": [
              "['practiceguitar', 'studygraph']"
            ]
          },
          "metadata": {},
          "execution_count": 57
        }
      ]
    },
    {
      "cell_type": "code",
      "source": [
        "def solution(todo_list, finished):\n",
        "    answer = [todo_list[i] for i in range(len(finished)) if finished[i] != True]\n",
        "\n",
        "    return answer\n",
        "solution(todo_list, finished)"
      ],
      "metadata": {
        "colab": {
          "base_uri": "https://localhost:8080/"
        },
        "id": "cru3hvX5l01N",
        "outputId": "0d5728e9-bde6-4bad-bf9f-bbbde3322209"
      },
      "execution_count": 60,
      "outputs": [
        {
          "output_type": "execute_result",
          "data": {
            "text/plain": [
              "['practiceguitar', 'studygraph']"
            ]
          },
          "metadata": {},
          "execution_count": 60
        }
      ]
    },
    {
      "cell_type": "markdown",
      "source": [
        "### n보다 커질 때까지 더하기"
      ],
      "metadata": {
        "id": "tJ3itNN2mu4R"
      }
    },
    {
      "cell_type": "code",
      "source": [
        "'''\n",
        "문제 설명\n",
        "정수 배열 numbers와 정수 n이 매개변수로 주어집니다. \n",
        "numbers의 원소를 앞에서부터 하나씩 더하다가 그 합이 n보다 커지는 순간 \n",
        "이때까지 더했던 원소들의 합을 return 하는 solution 함수를 작성해 주세요.\n",
        "\n",
        "1 ≤ numbers의 길이 ≤ 100\n",
        "1 ≤ numbers의 원소 ≤ 100\n",
        "0 ≤ n < numbers의 모든 원소의 합\n",
        "'''\n",
        "numbers\t = [34, 5, 71, 29, 100, 34]\n",
        "n = 123\n",
        "result = 139\n",
        "\n",
        "numbers\t = [58, 44, 27, 10, 100]\n",
        "n = 139\n",
        "result = 239\n",
        "\n",
        "def solution(numbers, n):\n",
        "    answer = 0\n",
        "    i = 0\n",
        "    while answer <= n:\n",
        "        answer += numbers[i]\n",
        "        i += 1\n",
        "\n",
        "    return answer\n",
        "\n",
        "solution(numbers, n)"
      ],
      "metadata": {
        "colab": {
          "base_uri": "https://localhost:8080/"
        },
        "id": "Saymk9bDmjQa",
        "outputId": "9a9801b9-68d9-4954-c574-b58a1989c9b5"
      },
      "execution_count": 62,
      "outputs": [
        {
          "output_type": "execute_result",
          "data": {
            "text/plain": [
              "239"
            ]
          },
          "metadata": {},
          "execution_count": 62
        }
      ]
    },
    {
      "cell_type": "markdown",
      "source": [
        "### 수열과 구간 쿼리 1"
      ],
      "metadata": {
        "id": "qgf3qebSnndw"
      }
    },
    {
      "cell_type": "code",
      "source": [
        "'''\n",
        "문제 설명\n",
        "정수 배열 arr와 2차원 정수 배열 queries이 주어집니다. \n",
        "queries의 원소는 각각 하나의 query를 나타내며, [s, e] 꼴입니다.\n",
        "\n",
        "각 query마다 순서대로 s ≤ i ≤ e인 모든 i에 대해 arr[i]에 1을 더합니다.\n",
        "\n",
        "위 규칙에 따라 queries를 처리한 이후의 arr를 return 하는 solution 함수를 완성해 주세요.\n",
        "\n",
        "1 ≤ arr의 길이 ≤ 1,000\n",
        "0 ≤ arr의 원소 ≤ 1,000,000\n",
        "1 ≤ queries의 길이 ≤ 1,000\n",
        "0 ≤ s ≤ e < arr의 길이\n",
        "'''\n",
        "\n",
        "arr = [0, 1, 2, 3, 4]\n",
        "queries = [[0, 1],[1, 2],[2, 3]]\n",
        "result = [1, 3, 4, 4, 4]\n",
        "\n",
        "def solution(arr, queries):\n",
        "    answer = []\n",
        "    for s, e in queries:\n",
        "        for i in range(s, e + 1):\n",
        "            arr[i] = arr[i] + 1\n",
        "\n",
        "    return arr\n",
        "solution(arr, queries)"
      ],
      "metadata": {
        "colab": {
          "base_uri": "https://localhost:8080/"
        },
        "id": "M2ZeHxZrnf2a",
        "outputId": "8210d4d6-01ba-4a35-c512-647b1d71748f"
      },
      "execution_count": 63,
      "outputs": [
        {
          "output_type": "execute_result",
          "data": {
            "text/plain": [
              "[1, 3, 4, 4, 4]"
            ]
          },
          "metadata": {},
          "execution_count": 63
        }
      ]
    },
    {
      "cell_type": "code",
      "source": [],
      "metadata": {
        "id": "N1CsOO_hpX3U"
      },
      "execution_count": null,
      "outputs": []
    }
  ]
}