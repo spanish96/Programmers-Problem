{
  "nbformat": 4,
  "nbformat_minor": 0,
  "metadata": {
    "colab": {
      "provenance": []
    },
    "kernelspec": {
      "name": "python3",
      "display_name": "Python 3"
    },
    "language_info": {
      "name": "python"
    }
  },
  "cells": [
    {
      "cell_type": "code",
      "execution_count": 4,
      "metadata": {
        "id": "DsUl-5knu-cu"
      },
      "outputs": [],
      "source": [
        "# x 사이의 개수\n",
        "# https://school.programmers.co.kr/learn/courses/30/lessons/181867\n",
        "\n",
        "myString = \"oxooxoxxox\"\n",
        "\n",
        "\n",
        "def solution(myString):\n",
        "    return [len(i) for i in myString.split('x')]\n",
        "\n",
        "\n"
      ]
    },
    {
      "cell_type": "code",
      "source": [
        "# 문자열 잘라서 정렬하기\n",
        "# https://school.programmers.co.kr/learn/courses/30/lessons/181866\n",
        "\n",
        "myString = 'dxccxbbbxaaaa'\n",
        "def solution(myString):\n",
        "    return sorted([i for i in myString.split('x') if i])\n",
        "\n",
        "solution(myString)"
      ],
      "metadata": {
        "colab": {
          "base_uri": "https://localhost:8080/"
        },
        "id": "x42jys1DvXfr",
        "outputId": "8c303359-e4e6-476f-cbf7-431e31ec0f4f"
      },
      "execution_count": 17,
      "outputs": [
        {
          "output_type": "execute_result",
          "data": {
            "text/plain": [
              "['aaaa', 'bbb', 'cc', 'd']"
            ]
          },
          "metadata": {},
          "execution_count": 17
        }
      ]
    },
    {
      "cell_type": "code",
      "source": [
        "# 간단한 식 계산하기\n",
        "# https://school.programmers.co.kr/learn/courses/30/lessons/181865\n",
        "\n",
        "binomial = \"43 + 12\"\n",
        "\n",
        "def solution(binomial):\n",
        "    if binomial.split(' ')[1] == '+':\n",
        "        return int(binomial.split(' ')[0]) + int(binomial.split(' ')[2])\n",
        "    elif binomial.split(' ')[1] == '-':\n",
        "        return int(binomial.split(' ')[0]) - int(binomial.split(' ')[2])\n",
        "    elif binomial.split(' ')[1] == '*':\n",
        "        return int(binomial.split(' ')[0]) * int(binomial.split(' ')[2])\n",
        "\n",
        "solution(binomial)\n",
        "\n",
        "# a, op, b = binomial.split()\n",
        "# 언패킹 사용할 수 있다는 것 잊지 말자!"
      ],
      "metadata": {
        "colab": {
          "base_uri": "https://localhost:8080/"
        },
        "id": "mmipyD7KwULB",
        "outputId": "79608d04-4dd3-448c-b176-b9fb32e0bfad"
      },
      "execution_count": 20,
      "outputs": [
        {
          "output_type": "execute_result",
          "data": {
            "text/plain": [
              "55"
            ]
          },
          "metadata": {},
          "execution_count": 20
        }
      ]
    },
    {
      "cell_type": "code",
      "source": [
        "# 문자열 바꿔서 찾기\n",
        "# https://school.programmers.co.kr/learn/courses/30/lessons/181864\n",
        "\n",
        "myString = 'ABBAA'\n",
        "\n",
        "def solution(myString, pat):\n",
        "    list = [1 if i == 'A' else 0 for i in myString ]\n",
        "    for i, e in enumerate(list):\n",
        "        if e:\n",
        "            list[i] = 'B'\n",
        "        else:\n",
        "            list[i] = 'A'\n",
        "    if pat in ''.join(list):\n",
        "        return 1\n",
        "    else:\n",
        "        return 0\n",
        "\n",
        "# def solution(myString, pat):\n",
        "#     return int(pat in myString.replace('A', 'C').replace('B', 'A').replace('C', 'B'))\n"
      ],
      "metadata": {
        "colab": {
          "base_uri": "https://localhost:8080/",
          "height": 36
        },
        "id": "CPPgVbR4xHRr",
        "outputId": "d8472e91-93f3-4d22-d091-2f7d9088eace"
      },
      "execution_count": 31,
      "outputs": [
        {
          "output_type": "execute_result",
          "data": {
            "text/plain": [
              "'BAABB'"
            ],
            "application/vnd.google.colaboratory.intrinsic+json": {
              "type": "string"
            }
          },
          "metadata": {},
          "execution_count": 31
        }
      ]
    },
    {
      "cell_type": "code",
      "source": [
        "# rny_string\n",
        "# https://school.programmers.co.kr/learn/courses/30/lessons/181863\n",
        "\n",
        "rny_string = 'programmers'\n",
        "\n",
        "def solution(rny_string):\n",
        "    return ''.join([i if i != 'm' else 'rn' for i in rny_string])"
      ],
      "metadata": {
        "colab": {
          "base_uri": "https://localhost:8080/"
        },
        "id": "eFDlt43ayh4v",
        "outputId": "243e5b01-674a-4757-dbaa-1c64311a16ca"
      },
      "execution_count": 12,
      "outputs": [
        {
          "output_type": "execute_result",
          "data": {
            "text/plain": [
              "['p', 'r', 'o', 'g', 'r', 'a', 'rn', 'rn', 'e', 'r', 's']"
            ]
          },
          "metadata": {},
          "execution_count": 12
        }
      ]
    },
    {
      "cell_type": "code",
      "source": [
        "programmers"
      ],
      "metadata": {
        "id": "dwDQ3KknjmnE"
      },
      "execution_count": null,
      "outputs": []
    }
  ]
}