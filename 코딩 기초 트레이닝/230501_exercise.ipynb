{
  "nbformat": 4,
  "nbformat_minor": 0,
  "metadata": {
    "colab": {
      "provenance": []
    },
    "kernelspec": {
      "name": "python3",
      "display_name": "Python 3"
    },
    "language_info": {
      "name": "python"
    }
  },
  "cells": [
    {
      "cell_type": "code",
      "execution_count": null,
      "metadata": {
        "id": "BHlcX8P0BLiA"
      },
      "outputs": [],
      "source": [
        "# 코딩 기초 트레이닝"
      ]
    },
    {
      "cell_type": "markdown",
      "source": [
        "## Day 4"
      ],
      "metadata": {
        "id": "3OMtAAt9BeJ0"
      }
    },
    {
      "cell_type": "code",
      "source": [
        "# n의 배수\n",
        "\n",
        "def solution(num, n):\n",
        "    if num % n == 0: return 1\n",
        "    else: return 0\n",
        "\n",
        "# def solution(num, n):\n",
        "#     return int(not(num % n))"
      ],
      "metadata": {
        "id": "-7xgNW1-Gpnj"
      },
      "execution_count": 30,
      "outputs": []
    },
    {
      "cell_type": "code",
      "source": [
        "# 공배수\n",
        "\n",
        "def solution(number, n, m):\n",
        "    if number % n == 0 and number % m == 0: return 1\n",
        "    else: return 0"
      ],
      "metadata": {
        "id": "37SXrPDstHFq"
      },
      "execution_count": 31,
      "outputs": []
    },
    {
      "cell_type": "code",
      "source": [
        "# 홀짝에 따라 다른 값 반환하기\n",
        "\n",
        "def solution(n):\n",
        "    answer = 0\n",
        "    if n % 2 == 1:\n",
        "        for i in range(n+1):\n",
        "            if i % 2 == 1:\n",
        "                answer += i\n",
        "    else:\n",
        "        for i in range(n+1):\n",
        "            if i % 2 == 0:\n",
        "                answer += i*i\n",
        "    return answer\n",
        "\n",
        "    # def solution(n):\n",
        "    # return sum(x ** (2 - x % 2) for x in range(n + 1) if n % 2 == x % 2)"
      ],
      "metadata": {
        "id": "g3qTMX_7trSy"
      },
      "execution_count": 43,
      "outputs": []
    },
    {
      "cell_type": "code",
      "source": [
        "# 조건 문자열\n",
        "\n",
        "def solution(ineq, eq, n, m):\n",
        "    if ineq == '>' and eq == '=':\n",
        "        if n >= m: return 1\n",
        "        else: return 0\n",
        "    elif ineq == '>' and eq == '!':\n",
        "        if n > m: return 1\n",
        "        else: return 0\n",
        "    elif ineq == '<' and eq == '=':\n",
        "        if n <= m: return 1\n",
        "        else: return 0\n",
        "    elif ineq == '<' and eq == '!':\n",
        "        if n < m: return 1\n",
        "        else: return 0\n",
        "\n",
        "# def solution(ineq, eq, n, m):\n",
        "#     return int(eval(str(n)+ineq+eq.replace('!', '')+str(m)))"
      ],
      "metadata": {
        "id": "1x18exFhysTs"
      },
      "execution_count": 65,
      "outputs": []
    },
    {
      "cell_type": "code",
      "source": [
        "# flag에 따라 다른 값 반환하기\n",
        "\n",
        "# 두 정수 a, b와 boolean 변수 flag가 매개변수로 주어질 때, \n",
        "# flag가 true면 a + b를 \n",
        "# false면 a - b를 return 하는 solution 함수를 작성해 주세요.\n",
        "\n",
        "def solution(a, b, flag):\n",
        "    if flag == True: return a + b\n",
        "    else: return a - b\n",
        "    "
      ],
      "metadata": {
        "id": "sBt7M0_25Weh"
      },
      "execution_count": null,
      "outputs": []
    },
    {
      "cell_type": "markdown",
      "source": [
        "## Day 5"
      ],
      "metadata": {
        "id": "t785MzrhASaI"
      }
    },
    {
      "cell_type": "markdown",
      "source": [
        "## 코드 처리하기"
      ],
      "metadata": {
        "id": "yaC38WjxYU4y"
      }
    },
    {
      "cell_type": "code",
      "source": [
        "# 코드 처리하기\n",
        "\n",
        "# 문자열 code가 주어집니다.\n",
        "# code를 앞에서부터 읽으면서 만약 문자가 \"1\"이면 mode를 바꿉니다. \n",
        "# mode에 따라 code를 읽어가면서 문자열 ret을 만들어냅니다.\n",
        "\n",
        "# mode는 0과 1이 있으며, idx를 0 부터 code의 길이 - 1 까지 1씩 키워나가면서 \n",
        "# code[idx]의 값에 따라 다음과 같이 행동합니다.\n",
        "\n",
        "# mode가 0일 때\n",
        "# code[idx]가 \"1\"이 아니면 idx가 짝수일 때만 ret의 code[idx]를 추가합니다.\n",
        "# code[idx]가 \"1\"이면 mode를 0에서 1로 바꿉니다.\n",
        "\n",
        "# mode가 1일 때\n",
        "# code[idx]가 \"1\"이 아니면 idx가 홀수일 때만 ret의 맨 뒤에 code[idx]를 추가합니다.\n",
        "# code[idx]가 \"1\"이면 mode를 1에서 0으로 바꿉니다.\n",
        "# 문자열 code를 통해 만들어진 문자열 ret를 return 하는 solution 함수를 완성해 주세요.\n",
        "\n",
        "# 단, 시작할 때 mode는 0이며, return 하려는 ret가 만약 빈 문자열이라면 대신 \"EMPTY\"를 return 합니다.\n",
        "\n",
        "def solution(code):\n",
        "    code_split = code.split('1')\n",
        "    ret = ''\n",
        "    for i, v in enumerate(code_split):\n",
        "        if i % 2 == 0: # i가 짝수이면, mode가 0임\n",
        "            for z, s in enumerate(code_split[i]):\n",
        "                if z % 2 == 0:\n",
        "                    ret += code[z]\n",
        "        if i % 2 == 1:\n",
        "            for z, s in enumerate(code_split[i]):\n",
        "                if z % 2 == 1:\n",
        "                    ret += code[z]\n",
        "\n",
        "    return ret\n",
        "\n",
        "solution('abc1abc1abc')"
      ],
      "metadata": {
        "colab": {
          "base_uri": "https://localhost:8080/",
          "height": 35
        },
        "id": "DOM1ic3gAUlM",
        "outputId": "0fd27a2a-7d31-4c94-8d9c-47ed16dc476a"
      },
      "execution_count": 118,
      "outputs": [
        {
          "output_type": "execute_result",
          "data": {
            "text/plain": [
              "'acbacb'"
            ],
            "application/vnd.google.colaboratory.intrinsic+json": {
              "type": "string"
            }
          },
          "metadata": {},
          "execution_count": 118
        }
      ]
    },
    {
      "cell_type": "code",
      "source": [
        "code = \"abc1abc1abc1abc\"\n",
        "code_split = code.split('1')\n",
        "for i, v in enumerate(code_split):\n",
        "    print(i, v)\n",
        "\n",
        "for i in code:\n",
        "    print(i)\n",
        "\n",
        "# i = 0, mode = 0\n",
        "code_split[0][0] is code[0] # 0 + 0 # 짝수\n",
        "code_split[0][1] is code[1] # 0 + 1\n",
        "code_split[0][2] is code[2] # 0 + 2 # 짝수\n",
        "\n",
        "# i = 1\n",
        "code_split[1][0] is code[4] # 2+1 + 1\n",
        "code_split[1][1] is code[5] # 2+1 + 2\n",
        "code_split[1][2] is code[6] # 2+1 + 3\n",
        "\n",
        "# i = 2, mode = 0\n",
        "code_split[2][0] is code[8] # 6+1 + 1 # 짝수\n",
        "code_split[2][1] is code[9] # 6+1 + 2 \n",
        "code_split[2][2] is code[10] # 6+1 + 3 # 짝수\n",
        "\n",
        "# i = 3\n",
        "code_split[3][0] is code[12] # 10+1 +1\n",
        "code_split[3][1] is code[13] # 10+1 +2\n",
        "code_split[3][2] is code[14] # 10+1 +3\n"
      ],
      "metadata": {
        "id": "kakEIyyKC7GX"
      },
      "execution_count": null,
      "outputs": []
    },
    {
      "cell_type": "code",
      "source": [
        "def solution(code):\n",
        "    code_split = code.split('1')\n",
        "    ret = []\n",
        "    for i, v in enumerate(code_split):\n",
        "        if i % 2 == 0: \n",
        "            for z, s in enumerate(code_split[i]):\n",
        "                if z % 2 == 0:\n",
        "                    ret.append(code[z])\n",
        "        if i % 2 == 1:\n",
        "            for z, s in enumerate(code_split[i]):\n",
        "                if z % 2 == 1:\n",
        "                    ret.append(code[z])\n",
        "\n",
        "    return ''.join(ret)\n",
        "solution('abc1abc1abc')"
      ],
      "metadata": {
        "colab": {
          "base_uri": "https://localhost:8080/",
          "height": 35
        },
        "id": "i-4990EAWB-7",
        "outputId": "42770425-881e-40db-8535-4a546595adaa"
      },
      "execution_count": 9,
      "outputs": [
        {
          "output_type": "execute_result",
          "data": {
            "text/plain": [
              "'acbac'"
            ],
            "application/vnd.google.colaboratory.intrinsic+json": {
              "type": "string"
            }
          },
          "metadata": {},
          "execution_count": 9
        }
      ]
    },
    {
      "cell_type": "code",
      "source": [],
      "metadata": {
        "id": "JO5yQdI7X7hA"
      },
      "execution_count": null,
      "outputs": []
    }
  ]
}