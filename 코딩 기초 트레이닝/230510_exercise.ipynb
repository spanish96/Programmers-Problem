{
  "nbformat": 4,
  "nbformat_minor": 0,
  "metadata": {
    "colab": {
      "provenance": [],
      "toc_visible": true
    },
    "kernelspec": {
      "name": "python3",
      "display_name": "Python 3"
    },
    "language_info": {
      "name": "python"
    }
  },
  "cells": [
    {
      "cell_type": "markdown",
      "source": [
        "## Day 11"
      ],
      "metadata": {
        "id": "PaKJfAzc-AFb"
      }
    },
    {
      "cell_type": "markdown",
      "source": [
        "### 문자 개수 세기"
      ],
      "metadata": {
        "id": "U8RWRr788wRe"
      }
    },
    {
      "cell_type": "code",
      "source": [
        "\n",
        "'''\n",
        "문제 설명\n",
        "알파벳 대소문자로만 이루어진 문자열 my_string이 주어질 때, \n",
        "my_string에서 'A'의 개수, my_string에서 'B'의 개수,..., \n",
        "my_string에서 'Z'의 개수, my_string에서 'a'의 개수, \n",
        "my_string에서 'b'의 개수,..., \n",
        "my_string에서 'z'의 개수를 순서대로 담은 길이 52의 \n",
        "정수 배열을 return 하는 solution 함수를 작성해 주세요.\n",
        "\n",
        "1 ≤ my_string의 길이 ≤ 1,000\n",
        "\n",
        "'''\n",
        "\n",
        "import time\n",
        "from time import process_time\n",
        "import re\n",
        "\n",
        "start = process_time()\n",
        "\n",
        "my_string = 'Programmers'\n",
        "# result = [0, 0, 0, 0, 0, 0, 0, 0, 0, 0, 0, 0, 0, 0, 0, 1,\n",
        "#           0, 0, 0, 0, 0, 0, 0, 0, 0, 0, 1, 0, 0, 0, 1, 0,\n",
        "#           1, 0, 0, 0, 0, 0, 2, 0, 1, 0, 0, 3, 1, 0, 0, 0, 0, 0, 0, 0]\n",
        "\n",
        "def solution(my_string):\n",
        "    my_string_pattern = re.compile(r'[a-zA-Z]') # my_string에 있는 알파벳 찾기\n",
        "    pattern_list = re.findall(my_string_pattern, my_string) # my_string에서 찾은 알파벳을 리스트로 반환\n",
        "    alphabet = 'ABCDEFGHIJKLMNOPQRSTUVWXYZabcdefghijklmnopqrstuvwxyz'\n",
        "    result = []\n",
        "    for alpha in alphabet:\n",
        "        if alpha in pattern_list:\n",
        "            result.append(pattern_list.count(alpha))\n",
        "        else:\n",
        "            result.append(0)\n",
        "    return result\n",
        "\n",
        "solution(my_string)\n",
        "\n",
        "end = process_time()\n",
        "print(f'프로그램을 수행하는데 {end - start}초가 걸렸습니다.')\n"
      ],
      "metadata": {
        "colab": {
          "base_uri": "https://localhost:8080/"
        },
        "id": "9u7e7DhkpgiG",
        "outputId": "82b52b09-d7c8-47d5-ad0b-d78068c3782b"
      },
      "execution_count": 21,
      "outputs": [
        {
          "output_type": "stream",
          "name": "stdout",
          "text": [
            "프로그램을 수행하는데 0.00044925299999931667초가 걸렸습니다.\n"
          ]
        }
      ]
    },
    {
      "cell_type": "code",
      "source": [
        "start = process_time()\n",
        "\n",
        "my_string = 'Programmers'\n",
        "# result = [0, 0, 0, 0, 0, 0, 0, 0, 0, 0, 0, 0, 0, 0, 0, 1,\n",
        "#           0, 0, 0, 0, 0, 0, 0, 0, 0, 0, 1, 0, 0, 0, 1, 0,\n",
        "#           1, 0, 0, 0, 0, 0, 2, 0, 1, 0, 0, 3, 1, 0, 0, 0, 0, 0, 0, 0]\n",
        "\n",
        "def solution(my_string):\n",
        "    my_string_pattern = re.compile(r'[a-zA-Z]') # my_string에 있는 알파벳 찾기\n",
        "    pattern_list = re.findall(my_string_pattern, my_string) # my_string에서 찾은 알파벳을 리스트로 반환\n",
        "    alphabet = 'ABCDEFGHIJKLMNOPQRSTUVWXYZabcdefghijklmnopqrstuvwxyz'\n",
        "    result = [pattern_list.count(alpha) if alpha in pattern_list else 0 for alpha  in alphabet ]\n",
        "\n",
        "    return result\n",
        "\n",
        "solution(my_string)\n",
        "\n",
        "end = process_time()\n",
        "print(f'프로그램을 수행하는데 {end - start}초가 걸렸습니다.')\n",
        "\n",
        "# "
      ],
      "metadata": {
        "colab": {
          "base_uri": "https://localhost:8080/"
        },
        "id": "uLzUg5rn4DIh",
        "outputId": "3880a7b4-1607-432e-8968-b0d2c2f77099"
      },
      "execution_count": 22,
      "outputs": [
        {
          "output_type": "stream",
          "name": "stdout",
          "text": [
            "프로그램을 수행하는데 0.0003274560000008364초가 걸렸습니다.\n"
          ]
        }
      ]
    },
    {
      "cell_type": "code",
      "source": [
        "start = process_time()\n",
        "\n",
        "def solution(my_string):\n",
        "    answer=[0]*52\n",
        "    for x in my_string:\n",
        "        if x.isupper():\n",
        "            answer[ord(x)-65]+=1\n",
        "        else:\n",
        "            answer[ord(x)-71]+=1\n",
        "    return answer\n",
        "\n",
        "solution(my_string)\n",
        "\n",
        "end = process_time()\n",
        "print(f'프로그램을 수행하는데 {end - start}초가 걸렸습니다.')"
      ],
      "metadata": {
        "colab": {
          "base_uri": "https://localhost:8080/"
        },
        "id": "So8Objmvp1-w",
        "outputId": "a632cf81-8856-4ab0-c29f-68672275c21f"
      },
      "execution_count": 25,
      "outputs": [
        {
          "output_type": "stream",
          "name": "stdout",
          "text": [
            "프로그램을 수행하는데 0.0002440250000006472초가 걸렸습니다.\n"
          ]
        }
      ]
    },
    {
      "cell_type": "markdown",
      "source": [
        "### 배열 만들기 1"
      ],
      "metadata": {
        "id": "Plk1T8Rq88Js"
      }
    },
    {
      "cell_type": "code",
      "source": [
        "'''\n",
        "문제 설명\n",
        "정수 n과 k가 주어졌을 때, 1 이상 n이하의 정수 중에서 k의 배수를 \n",
        "오름차순으로 저장한 배열을 return 하는 solution 함수를 완성해 주세요.\n",
        "\n",
        "1 ≤ n ≤ 1,000,000\n",
        "1 ≤ k ≤ min(1,000, n)\n",
        "'''\n",
        "n = 10\n",
        "k = 3\n",
        "result = [3, 6, 9]\n",
        "\n",
        "# n = 15\n",
        "# k = 5\n",
        "# result = [5, 10, 15]\n",
        "\n",
        "start = process_time()\n",
        "\n",
        "def solution(n, k):\n",
        "    answer = []\n",
        "    for i in range(n):\n",
        "        if 1 <= (k * i) <= n:\n",
        "            answer.append(k * i)\n",
        "    return answer\n",
        "\n",
        "solution(n, k)\n",
        "\n",
        "end = process_time()\n",
        "print(f'프로그램을 수행하는데 {end - start}초가 걸렸습니다.')"
      ],
      "metadata": {
        "colab": {
          "base_uri": "https://localhost:8080/"
        },
        "id": "euT9z0Lb5G-U",
        "outputId": "93bd0ae1-4984-4e84-9d2c-d84eb051a72d"
      },
      "execution_count": 37,
      "outputs": [
        {
          "output_type": "stream",
          "name": "stdout",
          "text": [
            "프로그램을 수행하는데 0.00021222999999892522초가 걸렸습니다.\n"
          ]
        }
      ]
    },
    {
      "cell_type": "code",
      "source": [
        "start = process_time()\n",
        "\n",
        "def solution(n, k):\n",
        "    return [k * i for i in range(n+1) if 1 <= (k * i) <= n]\n",
        "solution(n, k)\n",
        "\n",
        "end = process_time()\n",
        "print(f'프로그램을 수행하는데 {end - start}초가 걸렸습니다.')"
      ],
      "metadata": {
        "colab": {
          "base_uri": "https://localhost:8080/"
        },
        "id": "vQdYrnrF9L30",
        "outputId": "d160b742-c8a0-4454-efa6-b4f51ecfbb0c"
      },
      "execution_count": 41,
      "outputs": [
        {
          "output_type": "stream",
          "name": "stdout",
          "text": [
            "프로그램을 수행하는데 0.00027856899999889606초가 걸렸습니다.\n"
          ]
        }
      ]
    },
    {
      "cell_type": "code",
      "source": [
        "start = process_time()\n",
        "\n",
        "def solution(n, k):\n",
        "    return [i for i in range(k,n+1,k)]\n",
        "\n",
        "end = process_time()\n",
        "print(f'프로그램을 수행하는데 {end - start}초가 걸렸습니다.')"
      ],
      "metadata": {
        "colab": {
          "base_uri": "https://localhost:8080/"
        },
        "id": "Jdkt-Eft_yU2",
        "outputId": "cf6201ab-4ce1-4a56-e070-40c42544f1c2"
      },
      "execution_count": 43,
      "outputs": [
        {
          "output_type": "stream",
          "name": "stdout",
          "text": [
            "프로그램을 수행하는데 0.0001749730000000227초가 걸렸습니다.\n"
          ]
        }
      ]
    },
    {
      "cell_type": "markdown",
      "source": [
        "### 글자 지우기"
      ],
      "metadata": {
        "id": "wWsLTD3XAdtB"
      }
    },
    {
      "cell_type": "code",
      "source": [
        "'''\n",
        "문제 설명\n",
        "문자열 my_string과 정수 배열 indices가 주어질 때, \n",
        "my_string에서 indices의 원소에 해당하는 인덱스의 글자를 지우고 \n",
        "이어 붙인 문자열을 return 하는 solution 함수를 작성해 주세요.\n",
        "\n",
        "1 ≤ indices의 길이 < my_string의 길이 ≤ 100\n",
        "my_string은 영소문자로만 이루어져 있습니다\n",
        "0 ≤ indices의 원소 < my_string의 길이\n",
        "indices의 원소는 모두 서로 다릅니다.\n",
        "'''\n",
        "my_string = 'apporoograpemmemprs'\n",
        "indices = [1, 16, 6, 15, 0, 10, 11, 3]\n",
        "# result = 'programmers'\n",
        "\n",
        "start = process_time()\n",
        "\n",
        "def solution(my_string, indices):\n",
        "    result = ''\n",
        "    for i in range(len(my_string)):\n",
        "        if i not in indices:\n",
        "            result += my_string[i]\n",
        "    return result\n",
        "\n",
        "solution(my_string, indices)\n",
        "\n",
        "end = process_time()\n",
        "print(f'프로그램을 수행하는데 {end - start}초가 걸렸습니다.')"
      ],
      "metadata": {
        "colab": {
          "base_uri": "https://localhost:8080/"
        },
        "id": "Ts02Ql4JAYUE",
        "outputId": "0c8b1af2-f35c-43c0-d6c0-432fc0648744"
      },
      "execution_count": 62,
      "outputs": [
        {
          "output_type": "stream",
          "name": "stdout",
          "text": [
            "프로그램을 수행하는데 0.00023883400000102029초가 걸렸습니다.\n"
          ]
        }
      ]
    },
    {
      "cell_type": "code",
      "source": [
        "start = process_time()\n",
        "\n",
        "def solution(my_string, indices):\n",
        "    return ''.join([my_string[i] for i in range(len(my_string)) if i not in indices])\n",
        "\n",
        "solution(my_string, indices)\n",
        "\n",
        "end = process_time()\n",
        "print(f'프로그램을 수행하는데 {end - start}초가 걸렸습니다.')"
      ],
      "metadata": {
        "colab": {
          "base_uri": "https://localhost:8080/"
        },
        "id": "cAzbAytYBgru",
        "outputId": "9130d963-2364-4e2f-b58a-67d72b3fe9bb"
      },
      "execution_count": 63,
      "outputs": [
        {
          "output_type": "stream",
          "name": "stdout",
          "text": [
            "프로그램을 수행하는데 0.00022016599999830078초가 걸렸습니다.\n"
          ]
        }
      ]
    },
    {
      "cell_type": "markdown",
      "source": [
        "### 카운트 다운"
      ],
      "metadata": {
        "id": "ZhODj4I8D1UL"
      }
    },
    {
      "cell_type": "code",
      "source": [
        "'''\n",
        "문제 설명\n",
        "정수 start와 end가 주어질 때, \n",
        "start에서 end까지 1씩 감소하는 수들을 차례로 담은 리스트를 \n",
        "return하도록 solution 함수를 완성해주세요.\n",
        "\n",
        "0 ≤ end ≤ start ≤ 50\n",
        "'''\n",
        "start = 10\n",
        "end = 3\n",
        "result = [10, 9, 8, 7, 6, 5, 4, 3]\n",
        "\n",
        "start_time = process_time()\n",
        "\n",
        "def solution(start, end):\n",
        "    answer = []\n",
        "    for i in range(start - end + 1):\n",
        "        answer.append(start - i)\n",
        "    return answer\n",
        "solution(start, end)\n",
        "\n",
        "end_time = process_time()\n",
        "print(f'프로그램을 수행하는데 {end_time - start_time}초가 걸렸습니다.')"
      ],
      "metadata": {
        "colab": {
          "base_uri": "https://localhost:8080/"
        },
        "id": "EvGEakgODKzC",
        "outputId": "e066978b-7391-46a6-c121-ada546d730ca"
      },
      "execution_count": 71,
      "outputs": [
        {
          "output_type": "stream",
          "name": "stdout",
          "text": [
            "프로그램을 수행하는데 0.00018943999999976313초가 걸렸습니다.\n"
          ]
        }
      ]
    },
    {
      "cell_type": "code",
      "source": [
        "start_time = process_time()\n",
        "\n",
        "def solution(start, end):\n",
        "    return [start - i for i in range(start - end + 1)]\n",
        "solution(start, end)\n",
        "\n",
        "end_time = process_time()\n",
        "print(f'프로그램을 수행하는데 {end_time - start_time}초가 걸렸습니다.')"
      ],
      "metadata": {
        "colab": {
          "base_uri": "https://localhost:8080/"
        },
        "id": "qdQvVetKEwJZ",
        "outputId": "e389f716-7933-418a-df89-91021131f759"
      },
      "execution_count": 72,
      "outputs": [
        {
          "output_type": "stream",
          "name": "stdout",
          "text": [
            "프로그램을 수행하는데 0.00027636900000516107초가 걸렸습니다.\n"
          ]
        }
      ]
    },
    {
      "cell_type": "markdown",
      "source": [
        "### 가까운 1 찾기"
      ],
      "metadata": {
        "id": "8AgtBSlQFaEe"
      }
    },
    {
      "cell_type": "code",
      "source": [
        "'''\n",
        "문제 설명\n",
        "정수 배열 arr가 주어집니다. 이때 arr의 원소는 1 또는 0입니다. \n",
        "정수 idx가 주어졌을 때, idx보다 크면서 배열의 값이 1인 가장 작은 인덱스를 찾아서 \n",
        "반환하는 solution 함수를 완성해 주세요.\n",
        "\n",
        "단, 만약 그러한 인덱스가 없다면 -1을 반환합니다.\n",
        "\n",
        "3 ≤ arr의 길이 ≤ 100'000\n",
        "arr의 원소는 전부 1 또는 0입니다.\n",
        "'''\n",
        "# arr = [0, 0, 0, 1]\n",
        "# idx = 1\n",
        "# result = 3\n",
        "\n",
        "arr = [1, 0, 0, 1, 0, 0]\n",
        "idx = 4\n",
        "# result = -1\n",
        "\n",
        "# arr = [1, 1, 1, 1, 0]\n",
        "# idx = 3\n",
        "# result = 3\n",
        "\n",
        "start_time = process_time()\n",
        "\n",
        "def solution(arr, idx):\n",
        "        try:\n",
        "            if arr[idx:].count(1) > 0:\n",
        "                index = arr[idx:].index(1)\n",
        "                return index + idx\n",
        "            else:\n",
        "                return -1\n",
        "        except:\n",
        "            return -1\n",
        "\n",
        "solution(arr, idx)\n",
        "\n",
        "end_time = process_time()\n",
        "print(f'프로그램을 수행하는데 {end_time - start_time}초가 걸렸습니다.')"
      ],
      "metadata": {
        "colab": {
          "base_uri": "https://localhost:8080/"
        },
        "id": "ipWzJe8AE_3a",
        "outputId": "260c25e9-586b-462f-c9b0-c45f814e3e13"
      },
      "execution_count": 98,
      "outputs": [
        {
          "output_type": "stream",
          "name": "stdout",
          "text": [
            "프로그램을 수행하는데 0.00020568699999756745초가 걸렸습니다.\n"
          ]
        }
      ]
    },
    {
      "cell_type": "code",
      "source": [
        "\n",
        "start_time = process_time()\n",
        "\n",
        "def solution(arr, idx):\n",
        "    answer = 0\n",
        "    try:\n",
        "        answer = arr.index(1, idx)\n",
        "    except:\n",
        "        answer = -1\n",
        "\n",
        "    return answer\n",
        "\n",
        "end_time = process_time()\n",
        "print(f'프로그램을 수행하는데 {end_time - start_time}초가 걸렸습니다.')"
      ],
      "metadata": {
        "colab": {
          "base_uri": "https://localhost:8080/"
        },
        "id": "R-CsRiHDGH9e",
        "outputId": "f55dad33-0550-4ca7-88ed-5fb398e1aed0"
      },
      "execution_count": 99,
      "outputs": [
        {
          "output_type": "stream",
          "name": "stdout",
          "text": [
            "프로그램을 수행하는데 0.00023132399999781228초가 걸렸습니다.\n"
          ]
        }
      ]
    },
    {
      "cell_type": "markdown",
      "source": [
        "## Day 12"
      ],
      "metadata": {
        "id": "QCL6z1NFOHaW"
      }
    },
    {
      "cell_type": "markdown",
      "source": [
        "### 리스트 자르기\n"
      ],
      "metadata": {
        "id": "XDxLpCH3OGP4"
      }
    },
    {
      "cell_type": "code",
      "source": [
        "'''\n",
        "문제 설명\n",
        "정수 n과 정수 3개가 담긴 리스트 slicer 그리고 \n",
        "정수 여러 개가 담긴 리스트 num_list가 주어집니다. \n",
        "slicer에 담긴 정수를 차례대로 a, b, c라고 할 때, \n",
        "n에 따라 다음과 같이 num_list를 슬라이싱 하려고 합니다.\n",
        "\n",
        "n = 1 : num_list의 0번 인덱스부터 b번 인덱스까지\n",
        "n = 2 : num_list의 a번 인덱스부터 마지막 인덱스까지\n",
        "n = 3 : num_list의 a번 인덱스부터 b번 인덱스까지\n",
        "n = 4 : num_list의 a번 인덱스부터 b번 인덱스까지 c 간격으로\n",
        "올바르게 슬라이싱한 리스트를 return하도록 solution 함수를 완성해주세요.\n",
        "\n",
        "n 은 1, 2, 3, 4 중 하나입니다.\n",
        "slicer의 길이 = 3\n",
        "slicer에 담긴 정수를 차례대로 a, b, c라고 할 때\n",
        "\n",
        "0 ≤ a ≤ b ≤ num_list의 길이 - 1\n",
        "1 ≤ c ≤ 3\n",
        "5 ≤ num_list의 길이 ≤ 30\n",
        "\n",
        "0 ≤ num_list의 원소 ≤ 100\n",
        "'''\n",
        "\n",
        "n = 3\n",
        "slicer = [1, 5, 2] # a, b, c\n",
        "num_list = \t[1, 2, 3, 4, 5, 6, 7, 8, 9]\n",
        "# result = [2, 3, 4, 5, 6]\n",
        "\n",
        "# n = 4\n",
        "# slicer = [1, 5, 2]\n",
        "# num_list = \t[1, 2, 3, 4, 5, 6, 7, 8, 9]\n",
        "# result = [2, 4, 6]\n",
        "\n",
        "def solution(n, slicer, num_list):\n",
        "    result = num_list\n",
        "    if n == 1:\n",
        "        return result[:slicer[1]+1]\n",
        "    elif n == 2:\n",
        "        return result[slicer[0]:]\n",
        "    elif n == 3:\n",
        "        return result[slicer[0]:slicer[1]+1]\n",
        "    elif n == 4:\n",
        "        return result[slicer[0]:slicer[1]+1:slicer[2]]\n",
        "\n",
        "solution(n, slicer, num_list)"
      ],
      "metadata": {
        "colab": {
          "base_uri": "https://localhost:8080/"
        },
        "id": "ovTWPPUhNA26",
        "outputId": "198c5d7c-a8a8-4f50-e75c-5ca9b2d81d0d"
      },
      "execution_count": 105,
      "outputs": [
        {
          "output_type": "execute_result",
          "data": {
            "text/plain": [
              "[2, 3, 4, 5, 6]"
            ]
          },
          "metadata": {},
          "execution_count": 105
        }
      ]
    },
    {
      "cell_type": "markdown",
      "source": [
        "### 첫 번째로 나오는 음수\n"
      ],
      "metadata": {
        "id": "PgoGOTHqQlEN"
      }
    },
    {
      "cell_type": "code",
      "source": [
        "'''\n",
        "문제 설명\n",
        "정수 리스트 num_list가 주어질 때, \n",
        "첫 번째로 나오는 음수의 인덱스를 return하도록 \n",
        "solution 함수를 완성해주세요. \n",
        "\n",
        "음수가 없다면 -1을 return합니다.\n",
        "\n",
        "5 ≤ num_list의 길이 ≤ 100\n",
        "-10 ≤ num_list의 원소 ≤ 100\n",
        "'''\n",
        "\n",
        "# num_list = [12, 4, 15, 46, 38, -2, 15]\n",
        "# result = 5\n",
        "\n",
        "num_list = [13, 22, 53, 24, 15, 6]\n",
        "# result = -1\n",
        "\n",
        "def solution(num_list):\n",
        "    result = -1\n",
        "    for i, n in enumerate(num_list):\n",
        "        if n < 0:\n",
        "            return i\n",
        "    return result\n",
        "            \n",
        "solution(num_list)"
      ],
      "metadata": {
        "colab": {
          "base_uri": "https://localhost:8080/"
        },
        "id": "dGDjZ8txQrqK",
        "outputId": "acffb869-4aa6-4d4b-e769-cb47564f79ce"
      },
      "execution_count": 111,
      "outputs": [
        {
          "output_type": "execute_result",
          "data": {
            "text/plain": [
              "-1"
            ]
          },
          "metadata": {},
          "execution_count": 111
        }
      ]
    },
    {
      "cell_type": "markdown",
      "source": [
        "### 배열 만들기 3"
      ],
      "metadata": {
        "id": "o1-ghFDRUAzH"
      }
    },
    {
      "cell_type": "code",
      "source": [
        "'''\n",
        "문제 설명\n",
        "정수 배열 arr와 2개의 구간이 담긴 배열 intervals가 주어집니다.\n",
        "\n",
        "intervals는 항상 [[a1, b1], [a2, b2]]의 꼴로 주어지며 각 구간은 닫힌 구간입니다. \n",
        "닫힌 구간은 양 끝값과 그 사이의 값을 모두 포함하는 구간을 의미합니다.\n",
        "\n",
        "이때 배열 arr의 첫 번째 구간에 해당하는 배열과 \n",
        "두 번째 구간에 해당하는 배열을 앞뒤로 붙여 새로운 배열을 만들어 \n",
        "return 하는 solution 함수를 완성해 주세요.\n",
        "\n",
        "1 ≤ arr의 길이 ≤ 100,000\n",
        "1 ≤ arr의 원소 < 100\n",
        "1 ≤ a1 ≤ b1 < arr의 길이\n",
        "1 ≤ a2 ≤ b2 < arr의 길이\n",
        "'''\n",
        "arr = [1, 2, 3, 4, 5]\n",
        "intervals = [[1, 3], [0, 4]] # 닫힌 구간이므로 b1 + 1, b2 + 1 \n",
        "# result = [2, 3, 4, 1, 2, 3, 4, 5]\n",
        "\n",
        "start_time = process_time()\n",
        "\n",
        "def solution(arr, intervals):\n",
        "    answer = []\n",
        "    for a, b in intervals:\n",
        "        answer.extend(arr[a:b+1])\n",
        "    return answer\n",
        "\n",
        "solution(arr, intervals)\n",
        "\n",
        "end_time = process_time()\n",
        "print(f'프로그램을 수행하는데 {end_time - start_time}초가 걸렸습니다.')"
      ],
      "metadata": {
        "colab": {
          "base_uri": "https://localhost:8080/"
        },
        "id": "XAcigthySI53",
        "outputId": "ff7aeb10-f9dc-492d-8b7d-58671c92e879"
      },
      "execution_count": 112,
      "outputs": [
        {
          "output_type": "execute_result",
          "data": {
            "text/plain": [
              "[2, 3, 4, 1, 2, 3, 4, 5]"
            ]
          },
          "metadata": {},
          "execution_count": 112
        }
      ]
    },
    {
      "cell_type": "markdown",
      "source": [
        "### 2의 영역\n"
      ],
      "metadata": {
        "id": "rtHfOcQRVX43"
      }
    },
    {
      "cell_type": "code",
      "source": [
        "'''\n",
        "문제 설명\n",
        "정수 배열 arr가 주어집니다. \n",
        "배열 안의 2가 모두 포함된 가장 작은 연속된 부분 배열을 \n",
        "return 하는 solution 함수를 완성해 주세요.\n",
        "\n",
        "단, arr에 2가 없는 경우 [-1]을 return 합니다.\n",
        "\n",
        "1 ≤ arr의 길이 ≤ 100,000\n",
        "1 ≤ arr의 원소 ≤ 10\n",
        "'''\n",
        "# arr = [1, 2, 1, 4, 5, 2, 9]\n",
        "# result = [2, 1, 4, 5, 2]\n",
        "\n",
        "# arr = [1, 2, 1]\n",
        "# result = [2]\n",
        "\n",
        "# arr = [1, 1, 1]\n",
        "# result = [-1]\n",
        "\n",
        "arr = [1, 2, 1, 2, 1, 10, 2, 1]\n",
        "# result = [2, 1, 2, 1, 10, 2]\n",
        "\n",
        "import time\n",
        "from time import process_time\n",
        "\n",
        "start_time = process_time()\n",
        "\n",
        "def solution(arr):\n",
        "    query = []\n",
        "    result = []\n",
        "    for i, n in enumerate(arr):\n",
        "        if n == 2:\n",
        "            query.append(i)\n",
        "    print(query)\n",
        "    if len(query) == 1:\n",
        "        result.append(2)\n",
        "    elif len(query) < 1:\n",
        "        result.append(-1)\n",
        "    elif len(query) > 1:\n",
        "        try:\n",
        "            for a, b in enumerate(query):\n",
        "                if a == 0:\n",
        "                    print(query[a], (query[a + 1] + 1))\n",
        "                    result.extend(arr[query[a]:query[a + 1] + 1])\n",
        "                elif a != 0:\n",
        "                    print(query[a], (query[a + 1] + 1))\n",
        "                    result.extend(arr[query[a]+1:query[a + 1] + 1])\n",
        "\n",
        "        except:\n",
        "            pass\n",
        "\n",
        "    return result\n",
        "\n",
        "solution(arr)\n",
        "\n",
        "end_time = process_time()\n",
        "print(f'프로그램을 수행하는데 {end_time - start_time}초가 걸렸습니다.')"
      ],
      "metadata": {
        "colab": {
          "base_uri": "https://localhost:8080/"
        },
        "id": "AYl1F0B6VMG0",
        "outputId": "8ce6de53-5180-488a-8b75-8ed00b61ea6a"
      },
      "execution_count": 60,
      "outputs": [
        {
          "output_type": "stream",
          "name": "stdout",
          "text": [
            "[1, 3, 6]\n",
            "1 4\n",
            "3 7\n",
            "프로그램을 수행하는데 0.0008150339999986045초가 걸렸습니다.\n"
          ]
        }
      ]
    },
    {
      "cell_type": "code",
      "source": [
        "start_time = process_time()\n",
        "\n",
        "def solution(arr):\n",
        "    if 2 not in arr:\n",
        "        return [-1]\n",
        "    return arr[arr.index(2) : len(arr) - arr[::-1].index(2)]\n",
        "\n",
        "solution(arr)\n",
        "\n",
        "\n",
        "end_time = process_time()\n",
        "print(f'프로그램을 수행하는데 {end_time - start_time}초가 걸렸습니다.')"
      ],
      "metadata": {
        "colab": {
          "base_uri": "https://localhost:8080/"
        },
        "id": "7nMdyFcEg9EJ",
        "outputId": "551873c8-1a60-4466-c558-36d74b2250b3"
      },
      "execution_count": 63,
      "outputs": [
        {
          "output_type": "stream",
          "name": "stdout",
          "text": [
            "프로그램을 수행하는데 0.00022405200000008563초가 걸렸습니다.\n"
          ]
        }
      ]
    },
    {
      "cell_type": "code",
      "source": [
        "def execution_time(func):\n",
        "    start_time = process_time()\n",
        "    print(func)\n",
        "    end_time = process_time()\n",
        "    print(f'프로그램을 수행하는데 {end_time - start_time}초가 걸렸습니다.')"
      ],
      "metadata": {
        "id": "-JxsjQVa_a8N"
      },
      "execution_count": 68,
      "outputs": []
    },
    {
      "cell_type": "markdown",
      "source": [
        "### 배열 조각하기\n"
      ],
      "metadata": {
        "id": "MZwt6xzc-N1_"
      }
    },
    {
      "cell_type": "code",
      "source": [
        "'''\n",
        "문제 설명\n",
        "정수 배열 arr와 query가 주어집니다.\n",
        "\n",
        "query를 순회하면서 다음 작업을 반복합니다.\n",
        "\n",
        "짝수 인덱스에서는 arr에서 query[i]번 인덱스를 제외하고 \n",
        "배열의 query[i]번 인덱스 뒷부분을 잘라서 버립니다.\n",
        "홀수 인덱스에서는 arr에서 query[i]번 인덱스는 제외하고 \n",
        "배열의 query[i]번 인덱스 앞부분을 잘라서 버립니다.\n",
        "위 작업을 마친 후 남은 arr의 부분 배열을 return 하는 solution 함수를 완성해 주세요.\n",
        "\n",
        "5 ≤ arr의 길이 ≤ 100,000\n",
        "0 ≤ arr의 원소 ≤ 100\n",
        "1 ≤ query의 길이 < min(50, arr의 길이 / 2)\n",
        "query의 각 원소는 0보다 크거나 같고 남아있는 arr의 길이 보다 작습니다.\n",
        "'''\n",
        "\n",
        "arr = [0, 1, 2, 3, 4, 5]\n",
        "query = [4, 1, 2]\n",
        "result = [1, 2, 3]\n",
        "\n",
        "start_time = process_time()\n",
        "\n",
        "def solution(arr, query):\n",
        "    answer = arr\n",
        "    for i, n in enumerate(query):\n",
        "        if i % 2 == 0:\n",
        "            answer = answer[:n + 1]\n",
        "        else:\n",
        "            answer = answer[n:]\n",
        "    return answer\n",
        "\n",
        "solution(arr, query)\n",
        "\n",
        "end_time = process_time()\n",
        "print(f'프로그램을 수행하는데 {end_time - start_time}초가 걸렸습니다.')"
      ],
      "metadata": {
        "colab": {
          "base_uri": "https://localhost:8080/"
        },
        "id": "Bj2Zb-U09-RB",
        "outputId": "44077f3a-8272-4387-9111-1477c49ae0e7"
      },
      "execution_count": 70,
      "outputs": [
        {
          "output_type": "stream",
          "name": "stdout",
          "text": [
            "프로그램을 수행하는데 0.00022674300000602443초가 걸렸습니다.\n"
          ]
        }
      ]
    },
    {
      "cell_type": "code",
      "source": [
        "execution_time(solution(arr, query))"
      ],
      "metadata": {
        "colab": {
          "base_uri": "https://localhost:8080/"
        },
        "id": "NFCNxsPrEjw3",
        "outputId": "c6505952-3ec7-4ae3-cbb0-615216bcc305"
      },
      "execution_count": 71,
      "outputs": [
        {
          "output_type": "stream",
          "name": "stdout",
          "text": [
            "[1, 2, 3]\n",
            "프로그램을 수행하는데 0.000244334999997875초가 걸렸습니다.\n"
          ]
        }
      ]
    },
    {
      "cell_type": "code",
      "source": [],
      "metadata": {
        "id": "zk1FWaPMGOzr"
      },
      "execution_count": null,
      "outputs": []
    }
  ]
}