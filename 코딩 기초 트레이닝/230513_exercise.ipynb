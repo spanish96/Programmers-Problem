{
  "nbformat": 4,
  "nbformat_minor": 0,
  "metadata": {
    "colab": {
      "provenance": []
    },
    "kernelspec": {
      "name": "python3",
      "display_name": "Python 3"
    },
    "language_info": {
      "name": "python"
    }
  },
  "cells": [
    {
      "cell_type": "markdown",
      "source": [
        "## Day 15 리스트(배열), 문자열\n"
      ],
      "metadata": {
        "id": "PaKJfAzc-AFb"
      }
    },
    {
      "cell_type": "code",
      "source": [
        "def execution_time(func):\n",
        "    start_time = process_time()\n",
        "    print(func)\n",
        "    end_time = process_time()\n",
        "    print(f'프로그램을 수행하는데 {end_time - start_time}초가 걸렸습니다.')"
      ],
      "metadata": {
        "id": "-JxsjQVa_a8N"
      },
      "execution_count": null,
      "outputs": []
    },
    {
      "cell_type": "markdown",
      "source": [
        "### 조건에 맞게 수열 변환하기 1\n"
      ],
      "metadata": {
        "id": "MZwt6xzc-N1_"
      }
    },
    {
      "cell_type": "code",
      "source": [
        "'''\n",
        "문제 설명\n",
        "정수 배열 arr가 주어집니다. \n",
        "arr의 각 원소에 대해 값이 50보다 크거나 같은 짝수라면 2로 나누고, \n",
        "50보다 작은 홀수라면 2를 곱합니다. \n",
        "그 결과인 정수 배열을 return 하는 solution 함수를 완성해 주세요.\n",
        "\n",
        "1 ≤ arr의 길이 ≤ 1,000,000\n",
        "1 ≤ arr의 원소의 값 ≤ 100\n",
        "'''\n",
        "arr = [1, 2, 3, 100, 99, 98]\n",
        "result = [2, 2, 6, 50, 99, 49]\n",
        "\n",
        "def solution(arr):\n",
        "    for i, n in enumerate(arr):\n",
        "        if n >= 50 and n % 2 == 0:\n",
        "            arr[i] = round(n / 2)\n",
        "        elif n < 50 and n % 2 == 1:\n",
        "            arr[i] = n * 2\n",
        "\n",
        "    return arr\n",
        "\n",
        "solution(arr)"
      ],
      "metadata": {
        "colab": {
          "base_uri": "https://localhost:8080/"
        },
        "id": "gjCwSCMgfOxQ",
        "outputId": "e9080d7c-1aee-4291-cad2-c37c517f357d"
      },
      "execution_count": 5,
      "outputs": [
        {
          "output_type": "execute_result",
          "data": {
            "text/plain": [
              "[2, 2, 6, 50, 99, 49]"
            ]
          },
          "metadata": {},
          "execution_count": 5
        }
      ]
    },
    {
      "cell_type": "markdown",
      "source": [
        "### 조건에 맞게 수열 변환하기 2"
      ],
      "metadata": {
        "id": "0OHHmh9ZhX9I"
      }
    },
    {
      "cell_type": "code",
      "source": [
        "'''\n",
        "문제 설명\n",
        "정수 배열 arr가 주어집니다. \n",
        "arr의 각 원소에 대해 값이 50보다 크거나 같은 짝수라면 2로 나누고, \n",
        "50보다 작은 홀수라면 2를 곱하고 다시 1을 더합니다.\n",
        "\n",
        "이러한 작업을 x번 반복한 결과인 배열을 arr(x)라고 표현했을 때, \n",
        "arr(x) = arr(x + 1)인 x가 항상 존재합니다. \n",
        "이러한 x 중 가장 작은 값을 return 하는 solution 함수를 완성해 주세요.\n",
        "\n",
        "단, 두 배열에 대한 \"=\"는 두 배열의 크기가 서로 같으며, \n",
        "같은 인덱스의 원소가 각각 서로 같음을 의미합니다.\n",
        "\n",
        "1 ≤ arr의 길이 ≤ 1,000,000\n",
        "1 ≤ arr의 원소의 값 ≤ 100\n",
        "'''\n",
        "\n",
        "arr = [1, 2, 3, 100, 99, 98]\n",
        "result= 5\n",
        "\n",
        "\n",
        "\n",
        "\n",
        "def solution(arr):\n",
        "    def solution2(arr):\n",
        "        answer = []\n",
        "        for i, n in enumerate(arr):\n",
        "            if n >= 50 and n % 2 == 0:\n",
        "                answer.append(round(n / 2))\n",
        "            elif n < 50 and n % 2 == 1:\n",
        "                answer.append(n * 2 + 1)\n",
        "            else:\n",
        "                answer.append(arr[i])\n",
        "        return answer\n",
        "    k = 0\n",
        "    while arr != solution2(arr):\n",
        "        k += 1\n",
        "        arr = solution2(arr)\n",
        "\n",
        "    return k\n",
        "\n",
        "solution(arr)\n",
        "\n",
        "\n",
        "# # 1번째 실행 결과 \n",
        "# arr = [3, 2, 7, 50, 99, 49]\n",
        "# solution(arr)\n",
        "\n",
        "# # 2번째 실행 결과 \n",
        "# arr = [7, 2, 15, 25, 99, 99]\n",
        "# solution(arr)\n",
        "\n",
        "# # 3번째 실행 결과 \n",
        "# arr = [15, 2, 31, 51, 99, 99]\n",
        "# solution(arr)\n",
        "\n",
        "# # 4번째 실행 결과 \n",
        "# arr = [31, 2, 63, 51, 99, 99]\n",
        "# solution(arr)\n",
        "\n",
        "# # 5번째 실행 결과 \n",
        "# arr = [63, 2, 63, 51, 99, 99]\n",
        "# solution(arr)"
      ],
      "metadata": {
        "colab": {
          "base_uri": "https://localhost:8080/"
        },
        "id": "EtNHz8r0gTvA",
        "outputId": "b3133142-f3c1-46dc-8f0f-93a8b787e96c"
      },
      "execution_count": 16,
      "outputs": [
        {
          "output_type": "execute_result",
          "data": {
            "text/plain": [
              "5"
            ]
          },
          "metadata": {},
          "execution_count": 16
        }
      ]
    },
    {
      "cell_type": "markdown",
      "source": [
        "### 1로 만들기"
      ],
      "metadata": {
        "id": "MyCHAZ-L2vT9"
      }
    },
    {
      "cell_type": "code",
      "source": [
        "'''\n",
        "문제 설명\n",
        "정수가 있을 때, 짝수라면 반으로 나누고, \n",
        "홀수라면 1을 뺀 뒤 반으로 나누면, 마지막엔 1이 됩니다. \n",
        "예를 들어 10이 있다면 다음과 같은 과정으로 1이 됩니다.\n",
        "\n",
        "10 / 2 = 5\n",
        "(5 - 1) / 2 = 4\n",
        "4 / 2 = 2\n",
        "2 / 2 = 1\n",
        "위와 같이 4번의 나누기 연산으로 1이 되었습니다.\n",
        "\n",
        "정수들이 담긴 리스트 num_list가 주어질 때, \n",
        "num_list의 모든 원소를 1로 만들기 위해서 필요한 나누기 연산의 횟수를 \n",
        "return하도록 solution 함수를 완성해주세요.\n",
        "\n",
        "3 ≤ num_list의 길이 ≤ 15\n",
        "1 ≤ num_list의 원소 ≤ 30\n",
        "'''\n",
        "num_list = [12, 4, 15, 1, 14]\n",
        "result = 11\n",
        "\n",
        "def solution(num_list):\n",
        "    n = 0\n",
        "    for i in num_list:\n",
        "        while i != 1:\n",
        "            if i % 2 == 0:\n",
        "                i /= 2\n",
        "                n += 1\n",
        "            elif i % 2 == 1:\n",
        "                i = (i -1) / 2\n",
        "                n += 1\n",
        "    return n\n",
        "\n",
        "solution(num_list)\n",
        "\n",
        "# def solution(num_list):\n",
        "#     return sum(len(bin(i)) - 3 for i in num_list)"
      ],
      "metadata": {
        "colab": {
          "base_uri": "https://localhost:8080/"
        },
        "id": "l8ewTjUK0uNt",
        "outputId": "09b6e951-9320-4259-d5d5-de85101c599c"
      },
      "execution_count": 20,
      "outputs": [
        {
          "output_type": "execute_result",
          "data": {
            "text/plain": [
              "11"
            ]
          },
          "metadata": {},
          "execution_count": 20
        }
      ]
    },
    {
      "cell_type": "markdown",
      "source": [
        "### 길이에 따른 연산\n"
      ],
      "metadata": {
        "id": "QCBSpuxV3yAI"
      }
    },
    {
      "cell_type": "code",
      "source": [
        "'''\n",
        "문제 설명\n",
        "정수가 담긴 리스트 num_list가 주어질 때, \n",
        "리스트의 길이가 11 이상이면 리스트에 있는 모든 원소의 합을 10 이하이면 \n",
        "모든 원소의 곱을 return하도록 solution 함수를 완성해주세요.\n",
        "\n",
        "2 ≤ num_list의 길이 ≤ 20\n",
        "1 ≤ num_list의 원소 ≤ 9\n",
        "'''\n",
        "num_list = [3, 4, 5, 2, 5, 4, 6, 7, 3, 7, 2, 2, 1]\n",
        "result = 51\n",
        "\n",
        "num_list = [2, 3, 4, 5]\n",
        "result = 120\n",
        "\n",
        "def solution(num_list):\n",
        "    if len(num_list) >= 11:\n",
        "        return sum(num_list)\n",
        "    else:\n",
        "        answer = 1\n",
        "        for i in num_list:\n",
        "            answer *= i\n",
        "    return answer\n",
        "\n",
        "solution(num_list)\n",
        "\n",
        "# def solution(num_list):\n",
        "#     if len(num_list) >= 11:\n",
        "#         return eval('+'.join(list(map(str, num_list))))\n",
        "#     else:\n",
        "#         return eval('*'.join(list(map(str, num_list))))"
      ],
      "metadata": {
        "colab": {
          "base_uri": "https://localhost:8080/"
        },
        "id": "ZC5RUh363YtA",
        "outputId": "03860333-056a-4914-e6bc-c624cfab6832"
      },
      "execution_count": 22,
      "outputs": [
        {
          "output_type": "execute_result",
          "data": {
            "text/plain": [
              "120"
            ]
          },
          "metadata": {},
          "execution_count": 22
        }
      ]
    },
    {
      "cell_type": "markdown",
      "source": [
        "### 원하는 문자열 찾기\n"
      ],
      "metadata": {
        "id": "KMaPlZYQ4zM8"
      }
    },
    {
      "cell_type": "code",
      "source": [
        "'''\n",
        "문제 설명\n",
        "알파벳으로 이루어진 문자열 myString과 pat이 주어집니다. \n",
        "myString의 연속된 부분 문자열 중 pat이 존재하면 1을 \n",
        "그렇지 않으면 0을 return 하는 solution 함수를 완성해 주세요.\n",
        "\n",
        "단, 알파벳 대문자와 소문자는 구분하지 않습니다.\n",
        "\n",
        "1 ≤ myString의 길이 ≤ 100,000\n",
        "1 ≤ pat의 길이 ≤ 30\n",
        "myString과 pat은 모두 알파벳으로 이루어진 문자열입니다.\n",
        "'''\n",
        "myString = 'AbCdEfG'\n",
        "pat = 'aBc'\n",
        "result = 1\n",
        "\n",
        "# myString = 'aaAA'\n",
        "# pat = 'aaaaa'\n",
        "# result = 0\n",
        "\n",
        "def solution(myString, pat):\n",
        "    myString = myString.lower()\n",
        "    pat = pat.lower()\n",
        "    if pat in myString: return 1\n",
        "    else: return 0\n",
        "\n",
        "\n",
        "solution(myString, pat)\n",
        "\n",
        "# def solution(myString, pat):\n",
        "#     return int(pat.lower() in myString.lower())"
      ],
      "metadata": {
        "colab": {
          "base_uri": "https://localhost:8080/"
        },
        "id": "3G2pL3JT4mpN",
        "outputId": "2cfe8ea8-1e50-4cc3-b058-a072e717bc86"
      },
      "execution_count": 24,
      "outputs": [
        {
          "output_type": "execute_result",
          "data": {
            "text/plain": [
              "1"
            ]
          },
          "metadata": {},
          "execution_count": 24
        }
      ]
    },
    {
      "cell_type": "markdown",
      "source": [
        "## Day 16(문자열)"
      ],
      "metadata": {
        "id": "NJ61SRBr5mSg"
      }
    },
    {
      "cell_type": "markdown",
      "source": [
        "### 대문자로 바꾸기\n"
      ],
      "metadata": {
        "id": "KANP9crH5rOJ"
      }
    },
    {
      "cell_type": "code",
      "source": [
        "'''\n",
        "문제 설명\n",
        "알파벳으로 이루어진 문자열 myString이 주어집니다. \n",
        "모든 알파벳을 대문자로 변환하여 return 하는 solution 함수를 완성해 주세요.\n",
        "\n",
        "1 ≤ myString의 길이 ≤ 100,000\n",
        "myString은 알파벳으로 이루어진 문자열입니다.\n",
        "'''\n",
        "myString = 'aBcDeFg'\n",
        "result = 'ABCDEFG'\n",
        "\n",
        "myString = 'AAA'\n",
        "result = 'AAA'\n",
        "\n",
        "def solution(myString):\n",
        "    return myString.upper()\n",
        "\n",
        "solution(myString)"
      ],
      "metadata": {
        "colab": {
          "base_uri": "https://localhost:8080/",
          "height": 36
        },
        "id": "SWeWnAw35cdg",
        "outputId": "31474369-76fe-4c64-b14b-1a06e1b57fa7"
      },
      "execution_count": 27,
      "outputs": [
        {
          "output_type": "execute_result",
          "data": {
            "text/plain": [
              "'AAA'"
            ],
            "application/vnd.google.colaboratory.intrinsic+json": {
              "type": "string"
            }
          },
          "metadata": {},
          "execution_count": 27
        }
      ]
    },
    {
      "cell_type": "markdown",
      "source": [
        "### 소문자로 바꾸기\n"
      ],
      "metadata": {
        "id": "_Gfw8Ll-6FH1"
      }
    },
    {
      "cell_type": "code",
      "source": [
        "'''\n",
        "문제 설명\n",
        "알파벳으로 이루어진 문자열 myString이 주어집니다. \n",
        "모든 알파벳을 소문자로 변환하여 return 하는 solution 함수를 완성해 주세요.\n",
        "\n",
        "1 ≤ myString의 길이 ≤ 100,000\n",
        "myString은 알파벳으로 이루어진 문자열입니다.\n",
        "'''\n",
        "myString = 'aBcDeFg'\n",
        "result = 'abcdefg'\n",
        "\n",
        "myString = 'aaa'\n",
        "result = 'aaa'\n",
        "\n",
        "def solution(myString):\n",
        "    return myString.lower()"
      ],
      "metadata": {
        "id": "ReslpQJH6E7t"
      },
      "execution_count": null,
      "outputs": []
    },
    {
      "cell_type": "markdown",
      "source": [
        "### 배열에서 문자열 대소문자 변환하기\n"
      ],
      "metadata": {
        "id": "-soWpOKY6Rsp"
      }
    },
    {
      "cell_type": "code",
      "source": [
        "'''\n",
        "문제 설명\n",
        "문자열 배열 strArr가 주어집니다. 모든 원소가 알파벳으로만 이루어져 있을 때, \n",
        "배열에서 홀수번째 인덱스의 문자열은 모든 문자를 대문자로, \n",
        "짝수번째 인덱스의 문자열은 모든 문자를 소문자로 바꿔서 반환하는 \n",
        "solution 함수를 완성해 주세요.\n",
        "\n",
        "1 ≤ strArr ≤ 20\n",
        "1 ≤ strArr의 원소의 길이 ≤ 20\n",
        "strArr의 모든 원소는 알파벳 소문자로 이루어져 있습니다.\n",
        "'''\n",
        "\n",
        "strArr = [\"AAA\",\"BBB\",\"CCC\",\"DDD\"]\n",
        "result = [\"aaa\",\"BBB\",\"ccc\",\"DDD\"]\n",
        "\n",
        "strArr = [\"aBc\",\"AbC\"]\n",
        "result = [\"abc\",\"ABC\"]\n",
        "\n",
        "def solution(strArr):\n",
        "    for i, s in enumerate(strArr):\n",
        "        if i % 2 == 1:\n",
        "            strArr[i] = s.upper()\n",
        "        else:\n",
        "            strArr[i] = s.lower()\n",
        "\n",
        "    return strArr\n",
        "\n",
        "solution(strArr)"
      ],
      "metadata": {
        "colab": {
          "base_uri": "https://localhost:8080/"
        },
        "id": "ZmdnvFS957ax",
        "outputId": "ecac6fc7-6ef4-4322-f1b1-86134516119d"
      },
      "execution_count": 30,
      "outputs": [
        {
          "output_type": "execute_result",
          "data": {
            "text/plain": [
              "['abc', 'ABC']"
            ]
          },
          "metadata": {},
          "execution_count": 30
        }
      ]
    },
    {
      "cell_type": "code",
      "source": [
        "def solution(strArr):\n",
        "    return [s.upper() if i % 2 == 1 else s.lower() for i, s in enumerate(strArr)]\n",
        "\n",
        "\n",
        "solution(strArr)"
      ],
      "metadata": {
        "colab": {
          "base_uri": "https://localhost:8080/"
        },
        "id": "3_s_c1P97hng",
        "outputId": "379b2232-d702-44ba-cb1d-c095893bb859"
      },
      "execution_count": 33,
      "outputs": [
        {
          "output_type": "execute_result",
          "data": {
            "text/plain": [
              "['abc', 'ABC']"
            ]
          },
          "metadata": {},
          "execution_count": 33
        }
      ]
    },
    {
      "cell_type": "markdown",
      "source": [
        "### A 강조하기\n"
      ],
      "metadata": {
        "id": "gNqDut_c8kzU"
      }
    },
    {
      "cell_type": "code",
      "source": [
        "'''\n",
        "문제 설명\n",
        "문자열 myString이 주어집니다. \n",
        "myString에서 알파벳 \"a\"가 등장하면 전부 \"A\"로 변환하고, \n",
        "\"A\"가 아닌 모든 대문자 알파벳은 소문자 알파벳으로 변환하여 \n",
        "return 하는 solution 함수를 완성하세요.\n",
        "\n",
        "1 ≤ myString의 길이 ≤ 20\n",
        "myString은 알파벳으로 이루어진 문자열입니다.\n",
        "'''\n",
        "myString = \"abstract algebra\"\n",
        "result = \"AbstrAct AlgebrA\"\n",
        "\n",
        "myString = \"PrOgRaMmErS\"\n",
        "result = \"progrAmmers\"\n",
        "\n",
        "def solution(myString):\n",
        "    answer = ''\n",
        "    for i, s in enumerate(myString):\n",
        "        if s == 'a':\n",
        "            answer += s.upper()\n",
        "        elif s == 'A':\n",
        "            answer += s\n",
        "        else:\n",
        "            answer += s.lower()\n",
        "        \n",
        "    return answer\n",
        "\n",
        "solution(myString)\n",
        "\n",
        "# def solution(myString):\n",
        "#     return myString.lower().replace('a', 'A')"
      ],
      "metadata": {
        "colab": {
          "base_uri": "https://localhost:8080/",
          "height": 36
        },
        "id": "44d3gvSv8EBw",
        "outputId": "1d199173-b7e8-4172-a399-1872490f808d"
      },
      "execution_count": 41,
      "outputs": [
        {
          "output_type": "execute_result",
          "data": {
            "text/plain": [
              "'progrAmmers'"
            ],
            "application/vnd.google.colaboratory.intrinsic+json": {
              "type": "string"
            }
          },
          "metadata": {},
          "execution_count": 41
        }
      ]
    },
    {
      "cell_type": "markdown",
      "source": [
        "### 특정한 문자를 대문자로 바꾸기\n"
      ],
      "metadata": {
        "id": "mfQqCUSR_KfL"
      }
    },
    {
      "cell_type": "code",
      "source": [
        "'''\n",
        "문제 설명\n",
        "영소문자로 이루어진 문자열 my_string과 영소문자 1글자로 이루어진 문자열 alp가 \n",
        "매개변수로 주어질 때, my_string에서 alp에 해당하는 모든 글자를 \n",
        "대문자로 바꾼 문자열을 return 하는 solution 함수를 작성해 주세요\n",
        "\n",
        "1 ≤ my_string의 길이 ≤ 1,000\n",
        "'''\n",
        "\n",
        "my_string = 'programmers'\n",
        "alp = 'p'\n",
        "result = 'Programmers'\n",
        "\n",
        "my_string = 'lowercase'\n",
        "alp = 'x'\n",
        "result = 'lowercase'\n",
        "\n",
        "def solution(my_string, alp):\n",
        "    answer = ''\n",
        "\n",
        "    for i in my_string:\n",
        "        if i == alp:\n",
        "            answer += i.upper()\n",
        "        else:\n",
        "            answer += i\n",
        "\n",
        "    return answer\n",
        "\n",
        "solution(my_string, alp)"
      ],
      "metadata": {
        "colab": {
          "base_uri": "https://localhost:8080/",
          "height": 36
        },
        "id": "cReUpjUR-iYm",
        "outputId": "555167a0-e5e1-4af5-f8be-0b7146969c22"
      },
      "execution_count": 44,
      "outputs": [
        {
          "output_type": "execute_result",
          "data": {
            "text/plain": [
              "'lowercase'"
            ],
            "application/vnd.google.colaboratory.intrinsic+json": {
              "type": "string"
            }
          },
          "metadata": {},
          "execution_count": 44
        }
      ]
    },
    {
      "cell_type": "code",
      "source": [
        "def solution(my_string, alp):\n",
        "    return ''.join([i.upper() if i == alp else i for i in my_string])\n",
        "\n",
        "\n",
        "solution(my_string, alp)"
      ],
      "metadata": {
        "colab": {
          "base_uri": "https://localhost:8080/",
          "height": 36
        },
        "id": "4z45U62k_yN8",
        "outputId": "fef20d6d-9f45-443d-d0be-a2b67a06729c"
      },
      "execution_count": 45,
      "outputs": [
        {
          "output_type": "execute_result",
          "data": {
            "text/plain": [
              "'lowercase'"
            ],
            "application/vnd.google.colaboratory.intrinsic+json": {
              "type": "string"
            }
          },
          "metadata": {},
          "execution_count": 45
        }
      ]
    },
    {
      "cell_type": "code",
      "source": [],
      "metadata": {
        "id": "SRYfiiYH_-Eh"
      },
      "execution_count": null,
      "outputs": []
    }
  ]
}