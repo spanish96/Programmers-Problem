{
  "nbformat": 4,
  "nbformat_minor": 0,
  "metadata": {
    "colab": {
      "provenance": []
    },
    "kernelspec": {
      "name": "python3",
      "display_name": "Python 3"
    },
    "language_info": {
      "name": "python"
    }
  },
  "cells": [
    {
      "cell_type": "code",
      "execution_count": 1,
      "metadata": {
        "id": "BHlcX8P0BLiA"
      },
      "outputs": [],
      "source": [
        "# 코딩 기초 트레이닝"
      ]
    },
    {
      "cell_type": "markdown",
      "source": [
        "## Day 1"
      ],
      "metadata": {
        "id": "3OMtAAt9BeJ0"
      }
    },
    {
      "cell_type": "code",
      "source": [
        "# 문자열 출력하기\n",
        "\n",
        "str = input()\n",
        "print(str)"
      ],
      "metadata": {
        "colab": {
          "base_uri": "https://localhost:8080/"
        },
        "id": "5mLGW7FrBdSR",
        "outputId": "4ae9e1eb-b3c0-4dac-a3dc-de5abd2b2a66"
      },
      "execution_count": 8,
      "outputs": [
        {
          "output_type": "stream",
          "name": "stdout",
          "text": [
            "str\n",
            "str\n"
          ]
        }
      ]
    },
    {
      "cell_type": "code",
      "source": [
        "# a와 b 출력하기\n",
        "\n",
        "a, b = map(int, input().strip().split(' '))\n",
        "print(f'a = {a}')\n",
        "print(f'b = {b}')"
      ],
      "metadata": {
        "colab": {
          "base_uri": "https://localhost:8080/"
        },
        "id": "m8_sdF7HBuo3",
        "outputId": "ddd9535f-ae44-4229-8001-ba55dffde531"
      },
      "execution_count": 9,
      "outputs": [
        {
          "output_type": "stream",
          "name": "stdout",
          "text": [
            "4 5\n",
            "a = 4\n",
            "b = 5\n"
          ]
        }
      ]
    },
    {
      "cell_type": "code",
      "source": [
        "# 문자열 반복해서 출력하기\n",
        "\n",
        "a, b = input().strip().split(' ')\n",
        "b = int(b)\n",
        "print(a * b)"
      ],
      "metadata": {
        "colab": {
          "base_uri": "https://localhost:8080/"
        },
        "id": "Y5CD3jflDbkS",
        "outputId": "a65b1d43-b528-4fbb-ad17-15f544200652"
      },
      "execution_count": 10,
      "outputs": [
        {
          "name": "stdout",
          "output_type": "stream",
          "text": [
            "string 5\n"
          ]
        }
      ]
    },
    {
      "cell_type": "code",
      "source": [
        "# 대소문자 바꿔서 출력하기\n",
        "\n",
        "str = input()\n",
        "str2 = ''\n",
        "for i in range(len(str)):\n",
        "    if str[i].islower():\n",
        "        str2 += str[i].upper()\n",
        "    else:\n",
        "        str2 += str[i].lower()\n",
        "print(str2)\n",
        "\n",
        "# print(input().swapcase())\n",
        "# Amazing python"
      ],
      "metadata": {
        "colab": {
          "base_uri": "https://localhost:8080/"
        },
        "id": "vczmNJm4FV8d",
        "outputId": "2cb2ada4-4417-4510-81bc-8c9a0e4dbe03"
      },
      "execution_count": 22,
      "outputs": [
        {
          "output_type": "stream",
          "name": "stdout",
          "text": [
            "abcC\n",
            "ABCc\n"
          ]
        }
      ]
    },
    {
      "cell_type": "code",
      "source": [
        "# 특수문자 출력하기\n",
        "\n",
        "print(\"!@#$%^&*(\\\\'\\\"<>?:;\")\n",
        "\n",
        "# print(r'!@#$%^&*(\\'\"<>?:;')"
      ],
      "metadata": {
        "colab": {
          "base_uri": "https://localhost:8080/"
        },
        "id": "FHxDG8lfcevw",
        "outputId": "579707b9-c23b-485a-a177-026d1e7d18cd"
      },
      "execution_count": 27,
      "outputs": [
        {
          "output_type": "stream",
          "name": "stdout",
          "text": [
            "!@#$%^&*(\\'\"<>?:;\n"
          ]
        }
      ]
    },
    {
      "cell_type": "code",
      "source": [],
      "metadata": {
        "id": "2ZOnCuUCdMku"
      },
      "execution_count": null,
      "outputs": []
    }
  ]
}