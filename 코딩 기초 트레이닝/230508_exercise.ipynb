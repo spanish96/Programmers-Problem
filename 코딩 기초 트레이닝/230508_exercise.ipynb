{
  "nbformat": 4,
  "nbformat_minor": 0,
  "metadata": {
    "colab": {
      "provenance": []
    },
    "kernelspec": {
      "name": "python3",
      "display_name": "Python 3"
    },
    "language_info": {
      "name": "python"
    }
  },
  "cells": [
    {
      "cell_type": "markdown",
      "source": [
        "## Day 8"
      ],
      "metadata": {
        "id": "PaKJfAzc-AFb"
      }
    },
    {
      "cell_type": "code",
      "source": [
        "# 주사위 게임 3\n",
        "\n",
        "'''\n",
        "문제 설명\n",
        "1부터 6까지 숫자가 적힌 주사위가 네 개 있습니다. \n",
        "네 주사위를 굴렸을 때 나온 숫자에 따라 다음과 같은 점수를 얻습니다.\n",
        "\n",
        "네 주사위에서 나온 숫자가 모두 p로 같다면 1111 × p점을 얻습니다.\n",
        "\n",
        "세 주사위에서 나온 숫자가 p로 같고 \n",
        "나머지 다른 주사위에서 나온 숫자가 q(p ≠ q)라면 (10 × p + q)2 점을 얻습니다.\n",
        "\n",
        "주사위가 두 개씩 같은 값이 나오고, 나온 숫자를 각각 p, q(p ≠ q)라고 한다면 \n",
        "(p + q) × |p - q|점을 얻습니다.\n",
        "\n",
        "어느 두 주사위에서 나온 숫자가 p로 같고 나머지 두 주사위에서 \n",
        "나온 숫자가 각각 p와 다른 q, r(q ≠ r)이라면 q × r점을 얻습니다.\n",
        "\n",
        "네 주사위에 적힌 숫자가 모두 다르다면 \n",
        "나온 숫자 중 가장 작은 숫자 만큼의 점수를 얻습니다.\n",
        "\n",
        "네 주사위를 굴렸을 때 나온 숫자가 정수 매개변수 a, b, c, d로 주어질 때, \n",
        "얻는 점수를 return 하는 solution 함수를 작성해 주세요.\n",
        "\n",
        "a, b, c, d는 1 이상 6 이하의 정수입니다.\n",
        "'''\n",
        "\n",
        "a = 2\n",
        "b = 2\n",
        "c = 2\n",
        "d = 2\n",
        "result = 2222\n",
        "\n",
        "a = 4\n",
        "b = 1\n",
        "c = 4\n",
        "d = 4\n",
        "result = 1681\n",
        "\n",
        "a = 6\n",
        "b = 3\n",
        "c = 3\n",
        "d = 6\n",
        "result = 27\n",
        "\n",
        "a = 2\n",
        "b = 5\n",
        "c = 2\n",
        "d = 6\n",
        "result = 30\n",
        "\n",
        "a = 6\n",
        "b = 4\n",
        "c = 2\n",
        "d = 5\n",
        "result = 2\n",
        "\n",
        "a = 5\n",
        "b = 2\n",
        "c = 2\n",
        "d = 2\n",
        "result = 625\n",
        "\n",
        "'''\n",
        "4개가 같다\n",
        "a == b and b == c and c == d 완료\n",
        "\n",
        "3개가 같다 >> (10 × p + q)2\n",
        "a, b, c가 같을 때 a == b and b == c and c == a 완료\n",
        "a, b, d가 같을 때 a == b and b == d and a == d 완료\n",
        "c, d, a가 같을 때 a == c and d == a and c == d 완료\n",
        "b, c, d가 같을 때 b == c and c == d and b == d 완료\n",
        "\n",
        "\n",
        "2개 씩 같을 때 (p + q) × |p - q|\n",
        "a,b와 c,d가 같을 때 a == b and c == d 완료\n",
        "a,c와 b,d가 같을 때 a == c and b == d 완료\n",
        "a,d와 b,c가 같을 때 a == d and b == c 완료\n",
        "\n",
        "2개만 같을 때 q * r\n",
        "a,b만 같을 때 a == b 완료\n",
        "a,c만 같을 때 a == c 완료\n",
        "a,d만 같을 때 a == d 완료\n",
        "b,c만 같을 때 b == c 완료\n",
        "b,d만 같을 때 b == d 완료\n",
        "c,d만 같을 때 c == d 완료\n",
        "\n",
        "전부 다를 때\n",
        "else\n",
        "'''\n",
        "a = 5\n",
        "b = 2\n",
        "c = 2\n",
        "d = 2\n",
        "\n",
        "def solution(a, b, c, d):\n",
        "    print(a, b, c, d)\n",
        "    if a == b:\n",
        "        if b == c:\n",
        "            if c == d:\n",
        "                return 1111 * a \n",
        "            else:\n",
        "                return (10 * a + d) ** 2\n",
        "        elif b == d:\n",
        "            return (10 * a + c) ** 2\n",
        "        elif c == d:\n",
        "            return (a + c) * abs(a - c)\n",
        "        else:\n",
        "            return c * d\n",
        "    elif a == c:\n",
        "        if c == d and d == a:\n",
        "            return (10 * a + b) ** 2\n",
        "        elif b == d:\n",
        "            return (a + b) * abs(a - b)\n",
        "        else:\n",
        "            return b * d\n",
        "    elif a == d:\n",
        "        if b == c:\n",
        "            return (a + b) * abs(a - b)\n",
        "        else:\n",
        "            return b * c\n",
        "    elif b == d:\n",
        "        if b == c:\n",
        "            return (10 * b + a) ** 2\n",
        "        else:\n",
        "            return a * c\n",
        "    elif b == c:\n",
        "        return a * d\n",
        "    elif c == d:\n",
        "        return a * b\n",
        "    else:\n",
        "        return min([a, b, c, d])\n",
        "\n",
        "solution(a, b, c, d)\n"
      ],
      "metadata": {
        "id": "OnXUKLjfRNx1",
        "colab": {
          "base_uri": "https://localhost:8080/"
        },
        "outputId": "473182db-2d6d-4d4c-a40c-0e77487f7c8f"
      },
      "execution_count": 30,
      "outputs": [
        {
          "output_type": "stream",
          "name": "stdout",
          "text": [
            "5 2 2 2\n"
          ]
        },
        {
          "output_type": "execute_result",
          "data": {
            "text/plain": [
              "625"
            ]
          },
          "metadata": {},
          "execution_count": 30
        }
      ]
    },
    {
      "cell_type": "code",
      "source": [
        "import random\n",
        "\n",
        "a = random.randint(1, 6)\n",
        "b = random.randint(1, 6)\n",
        "c = random.randint(1, 6)\n",
        "d = random.randint(1, 6)\n",
        "\n",
        "solution(a, b, c, d)"
      ],
      "metadata": {
        "colab": {
          "base_uri": "https://localhost:8080/"
        },
        "id": "CohZm0k-extB",
        "outputId": "32fba336-a6ab-4d0d-baba-da20a432ec95"
      },
      "execution_count": 27,
      "outputs": [
        {
          "output_type": "stream",
          "name": "stdout",
          "text": [
            "5 2 2 2\n"
          ]
        },
        {
          "output_type": "execute_result",
          "data": {
            "text/plain": [
              "2704"
            ]
          },
          "metadata": {},
          "execution_count": 27
        }
      ]
    },
    {
      "cell_type": "code",
      "source": [
        "# 글자 이어 붙여 문자열 만들기\n",
        "\n",
        "'''\n",
        "문제 설명\n",
        "문자열 my_string과 정수 배열 index_list가 매개변수로 주어집니다. \n",
        "my_string의 index_list의 원소들에 해당하는 인덱스의 글자들을 \n",
        "순서대로 이어 붙인 문자열을 return 하는 solution 함수를 작성해 주세요.\n",
        "\n",
        "1 ≤ my_string의 길이 ≤ 1,000\n",
        "my_string의 원소는 영소문자로 이루어져 있습니다.\n",
        "1 ≤ index_list의 길이 ≤ 1,000\n",
        "0 ≤ index_list의 원소 < my_string의 길이\n",
        "'''\n",
        "\n",
        "my_string = \"cvsgiorszzzmrpaqpe\"\n",
        "index_list = [16, 6, 5, 3, 12, 14, 11, 11, 17, 12, 7]\n",
        "result = \"programmers\"\n",
        "\n",
        "my_string = \"zpiaz\"\n",
        "index_list = [1, 2, 0, 0, 3]\n",
        "result = \"pizza\"\n",
        "\n",
        "def solution(my_string, index_list):\n",
        "    answer = ''\n",
        "    for i in index_list:\n",
        "        answer += my_string[i]\n",
        "    return answer\n",
        "\n",
        "solution(my_string, index_list)\n",
        "\n",
        "# def solution(my_string, index_list):\n",
        "#     return ''.join([my_string[idx] for idx in index_list])"
      ],
      "metadata": {
        "colab": {
          "base_uri": "https://localhost:8080/",
          "height": 35
        },
        "id": "8scvu7wA5GW3",
        "outputId": "06e99597-17a3-462c-e8c7-4822f5c7d995"
      },
      "execution_count": 33,
      "outputs": [
        {
          "output_type": "execute_result",
          "data": {
            "text/plain": [
              "'programmers'"
            ],
            "application/vnd.google.colaboratory.intrinsic+json": {
              "type": "string"
            }
          },
          "metadata": {},
          "execution_count": 33
        }
      ]
    },
    {
      "cell_type": "code",
      "source": [
        "# 9로 나눈 나머지\n",
        "\n",
        "'''\n",
        "문제 설명\n",
        "음이 아닌 정수를 9로 나눈 나머지는 \n",
        "그 정수의 각 자리 숫자의 합을 9로 나눈 나머지와 같은 것이 알려져 있습니다.\n",
        "\n",
        "이 사실을 이용하여 음이 아닌 정수가 문자열 number로 주어질 때, \n",
        "이 정수를 9로 나눈 나머지를 return 하는 solution 함수를 작성해주세요.\n",
        "\n",
        "1 ≤ number의 길이 ≤ 100,000\n",
        "number의 원소는 숫자로만 이루어져 있습니다.\n",
        "number는 정수 0이 아니라면 숫자 '0'으로 시작하지 않습니다.\n",
        "'''\n",
        "number = '123'\n",
        "result = 6\n",
        "\n",
        "number = '78720646226947352489'\n",
        "result = 2\n",
        "\n",
        "def solution(number):\n",
        "    return int(number) % 9\n",
        "\n",
        "solution(number)"
      ],
      "metadata": {
        "colab": {
          "base_uri": "https://localhost:8080/"
        },
        "id": "0s9gpovp8GuU",
        "outputId": "0bced864-71fb-44fe-a30e-ad80ed6e2682"
      },
      "execution_count": 35,
      "outputs": [
        {
          "output_type": "execute_result",
          "data": {
            "text/plain": [
              "2"
            ]
          },
          "metadata": {},
          "execution_count": 35
        }
      ]
    },
    {
      "cell_type": "code",
      "source": [
        "# 문자열 여러 번 뒤집기\n",
        "\n",
        "'''\n",
        "문제 설명\n",
        "문자열 my_string과 이차원 정수 배열 queries가 매개변수로 주어집니다. \n",
        "queries의 원소는 [s, e] 형태로, \n",
        "my_string의 인덱스 s부터 인덱스 e까지를 뒤집으라는 의미입니다.\n",
        " my_string에 queries의 명령을 순서대로 처리한 후의 문자열을 return 하는 \n",
        " solution 함수를 작성해 주세요.\n",
        "\n",
        " my_string은 영소문자로만 이루어져 있습니다.\n",
        "1 ≤ my_string의 길이 ≤ 1,000\n",
        "queries의 원소는 [s, e]의 형태로 0 ≤ s ≤ e < my_string의 길이를 만족합니다.\n",
        "1 ≤ queries의 길이 ≤ 1,000\n",
        "'''\n",
        "my_string = 'rermgorpsam'\n",
        "queries = [[2, 3], [0, 7], [5, 9], [6, 10]]\n",
        "result = 'programmers'\n",
        "\n",
        "def solution(my_string, queries):\n",
        "    my_string_list = list(my_string)\n",
        "    for a, b in queries:\n",
        "        my_string_list[a : b +1] = list(my_string_list[a : b + 1][::-1])\n",
        "    return ''.join(my_string_list)\n",
        "\n",
        "solution(my_string, queries)"
      ],
      "metadata": {
        "colab": {
          "base_uri": "https://localhost:8080/",
          "height": 35
        },
        "id": "sBIw3UYo-HHi",
        "outputId": "37d36704-129e-4e23-a0cb-c35e0bcaa101"
      },
      "execution_count": 83,
      "outputs": [
        {
          "output_type": "execute_result",
          "data": {
            "text/plain": [
              "'programmers'"
            ],
            "application/vnd.google.colaboratory.intrinsic+json": {
              "type": "string"
            }
          },
          "metadata": {},
          "execution_count": 83
        }
      ]
    },
    {
      "cell_type": "code",
      "source": [],
      "metadata": {
        "id": "lyzyDdhGiWFv"
      },
      "execution_count": null,
      "outputs": []
    }
  ]
}