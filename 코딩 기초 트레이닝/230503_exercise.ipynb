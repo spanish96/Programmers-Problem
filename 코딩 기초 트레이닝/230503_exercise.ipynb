{
  "nbformat": 4,
  "nbformat_minor": 0,
  "metadata": {
    "colab": {
      "provenance": []
    },
    "kernelspec": {
      "name": "python3",
      "display_name": "Python 3"
    },
    "language_info": {
      "name": "python"
    }
  },
  "cells": [
    {
      "cell_type": "markdown",
      "source": [
        "## Day 5"
      ],
      "metadata": {
        "id": "eE-_WxR5y-YZ"
      }
    },
    {
      "cell_type": "code",
      "source": [
        "# 등차수열의 특정한 항만 더하기\n",
        "\n",
        "# 두 정수 a, d와 길이가 n인 boolean 배열 included가 주어집니다. \n",
        "# 첫째항이 a, 공차가 d인 등차수열에서 included[i]가 i + 1항을 의미할 때, \n",
        "# 이 등차수열의 1항부터 n항까지 included가 True인 항들만 더한 값을 \n",
        "# return 하는 solution 함수를 작성해 주세요.\n",
        "\n",
        "def solution(a, d, included):\n",
        "    arse = []\n",
        "    for i in range(101):\n",
        "        if i < len(included):\n",
        "           arse.append(a)\n",
        "           a += d \n",
        "    answer = 0\n",
        "    for i in range(len(included)):\n",
        "        if included[i] == True: answer += arse[i]\n",
        "    return answer\n",
        "\n",
        "# def solution(a, d, included):\n",
        "#     answer = 0\n",
        "#     for i in range(len(included)):\n",
        "#         answer += (a + d * i) * int(included[i])\n",
        "#     return answer"
      ],
      "metadata": {
        "colab": {
          "base_uri": "https://localhost:8080/"
        },
        "id": "0VQf-zJLzAmB",
        "outputId": "8341f0ef-7ffc-408e-a8b8-79c41f86df6e"
      },
      "execution_count": 6,
      "outputs": [
        {
          "output_type": "execute_result",
          "data": {
            "text/plain": [
              "37"
            ]
          },
          "metadata": {},
          "execution_count": 6
        }
      ]
    },
    {
      "cell_type": "code",
      "source": [
        "# 주사위 게임 2\n",
        "\n",
        "'''1부터 6까지 숫자가 적힌 주사위가 세 개 있습니다. \n",
        "세 주사위를 굴렸을 때 나온 숫자를 각각 a, b, c라고 했을 때 얻는 점수는 다음과 같습니다.\n",
        "\n",
        "세 숫자가 모두 다르다면 a + b + c 점을 얻습니다.\n",
        "세 숫자 중 어느 두 숫자는 같고 나머지 다른 숫자는 다르다면 \n",
        "(a + b + c) × (a2 + b2 + c2 )점을 얻습니다.\n",
        "세 숫자가 모두 같다면 (a + b + c) × (a2 + b2 + c2 ) × (a3 + b3 + c3 )점을 얻습니다.\n",
        "\n",
        "세 정수 a, b, c가 매개변수로 주어질 때, \n",
        "얻는 점수를 return 하는 solution 함수를 작성해 주세요.'''\n",
        "\n",
        "def solution(a, b, c):\n",
        "    if a != b and b != c and c != a:\n",
        "        return a + b + c\n",
        "    elif (a == b and b != c) or (b == c and c != a) or (c == a and a != b):\n",
        "        return (a + b + c) * (a*a + b*b + c*c)\n",
        "    else: return (a + b + c) * (a*a + b*b + c*c) * (a*a*a + b*b*b + c*c*c)\n"
      ],
      "metadata": {
        "id": "uPOAzPT74bDu"
      },
      "execution_count": 3,
      "outputs": []
    },
    {
      "cell_type": "code",
      "source": [
        "# 원소들의 곱과 합\n",
        "\n",
        "'''정수가 담긴 리스트 num_list가 주어질 때, \n",
        "모든 원소들의 곱이 모든 원소들의 합의 제곱보다 작으면 1을 크면 0을 return하도록 \n",
        "solution 함수를 완성해주세요.'''\n",
        "\n",
        "def solution(num_list):\n",
        "    listsum = sum(num_list)*sum(num_list)\n",
        "    listsquare = 1\n",
        "    for i in num_list:\n",
        "        listsquare *= i\n",
        "    if listsquare < listsum:\n",
        "        return 1\n",
        "    else: return 0\n",
        "\n",
        "\n",
        "# def solution(num_list):\n",
        "#     s=sum(num_list)**2\n",
        "#     m=eval('*'.join([str(n) for n in num_list]))\n",
        "#     return 1 if s>m else 0"
      ],
      "metadata": {
        "colab": {
          "base_uri": "https://localhost:8080/"
        },
        "id": "zBYoRS5yMuf8",
        "outputId": "e7109ab4-2cdf-4d1a-c7bf-f1cbf32981a7"
      },
      "execution_count": 19,
      "outputs": [
        {
          "output_type": "execute_result",
          "data": {
            "text/plain": [
              "1"
            ]
          },
          "metadata": {},
          "execution_count": 19
        }
      ]
    },
    {
      "cell_type": "code",
      "source": [
        "# 이어 붙인 수\n",
        "\n",
        "'''정수가 담긴 리스트 num_list가 주어집니다. \n",
        "num_list의 홀수만 순서대로 이어 붙인 수와 \n",
        "짝수만 순서대로 이어 붙인 수의 합을 return하도록 \n",
        "solution 함수를 완성해주세요.'''\n",
        "\n",
        "def solution(num_list):\n",
        "    odd = ''\n",
        "    even = ''\n",
        "    for i, v in enumerate(num_list):\n",
        "        if num_list[i] % 2 == 1:\n",
        "            odd += str(v)\n",
        "        else:\n",
        "            even += str(v)\n",
        "    return int(odd) + int(even)"
      ],
      "metadata": {
        "id": "06TioMV0RIE7"
      },
      "execution_count": 27,
      "outputs": []
    },
    {
      "cell_type": "markdown",
      "source": [
        "## Day 6"
      ],
      "metadata": {
        "id": "oAkD7SZxscNb"
      }
    },
    {
      "cell_type": "code",
      "source": [
        "# 마지막 두 원소\n",
        "'''\n",
        "정수 리스트 num_list가 주어질 때, \n",
        "마지막 원소가 그전 원소보다 크면 \n",
        "마지막 원소에서 그전 원소를 뺀 값을 \n",
        "마지막 원소가 그전 원소보다 크지 않다면 \n",
        "마지막 원소를 두 배한 값을 추가하여 \n",
        "return하도록 solution 함수를 완성해주세요.\n",
        "\n",
        "2 ≤ num_list의 길이 ≤ 10\n",
        "1 ≤ num_list의 원소 ≤ 9'''\n",
        "\n",
        "def solution(num_list):\n",
        "    answer = num_list\n",
        "    if num_list[-1] > num_list[-2]:\n",
        "        answer.append(num_list[-1] - num_list[-2])\n",
        "    else:\n",
        "        answer.append(num_list[-1]*2)\n",
        "\n",
        "    return answer\n",
        "\n",
        "# def solution(l):\n",
        "#     l.append(l[-1]-l[-2] if l[-1]>l[-2] else l[-1]*2)\n",
        "#     return l"
      ],
      "metadata": {
        "colab": {
          "base_uri": "https://localhost:8080/"
        },
        "id": "M7mTbyhzVmKR",
        "outputId": "28ab2085-d426-4fa6-ce65-1f38fe6fec58"
      },
      "execution_count": 31,
      "outputs": [
        {
          "output_type": "execute_result",
          "data": {
            "text/plain": [
              "[2, 1, 6, 5]"
            ]
          },
          "metadata": {},
          "execution_count": 31
        }
      ]
    },
    {
      "cell_type": "code",
      "source": [
        "# 수 조작하기 1\n",
        "\n",
        "'''\n",
        "정수 n과 문자열 control이 주어집니다. \n",
        "control은 \"w\", \"a\", \"s\", \"d\"의 4개의 문자로 이루어져 있으며, \n",
        "control의 앞에서부터 순서대로 문자에 따라 n의 값을 바꿉니다.\n",
        "\n",
        "\"w\" : n이 1 커집니다.\n",
        "\"s\" : n이 1 작아집니다.\n",
        "\"d\" : n이 10 커집니다.\n",
        "\"a\" : n이 10 작아집니다.\n",
        "위 규칙에 따라 n을 바꿨을 때 가장 마지막에 나오는 n의 값을 return 하는 \n",
        "solution 함수를 완성해 주세요.\n",
        "\n",
        "-100,000 ≤ n ≤ 100,000\n",
        "1 ≤ control의 길이 ≤ 100,000\n",
        "control은 알파벳 소문자 \"w\", \"a\", \"s\", \"d\"로 이루어진 문자열입니다.'''\n",
        "\n",
        "def solution(n, control):\n",
        "    for i, v in enumerate(control):\n",
        "        if v == 'w': n += 1\n",
        "        if v == 's': n -= 1\n",
        "        if v == 'a': n -= 10\n",
        "        if v == 'd': n += 10        \n",
        "    answer = n\n",
        "    return answer\n",
        "\n",
        "# def solution(n, control):\n",
        "#     key = dict(zip(['w','s','d','a'], [1,-1,10,-10]))\n",
        "#     return n + sum([key[c] for c in control])"
      ],
      "metadata": {
        "colab": {
          "base_uri": "https://localhost:8080/"
        },
        "id": "lBK_AH1ovCb3",
        "outputId": "451f9a4d-4030-4b71-ef31-7cbbbb060de3"
      },
      "execution_count": 38,
      "outputs": [
        {
          "output_type": "execute_result",
          "data": {
            "text/plain": [
              "-1"
            ]
          },
          "metadata": {},
          "execution_count": 38
        }
      ]
    },
    {
      "cell_type": "code",
      "source": [
        "# 수 조작하기 2\n",
        "\n",
        "'''\n",
        "정수 배열 numLog가 주어집니다. \n",
        "처음에 numLog[0]에서 부터 시작해 \"w\", \"a\", \"s\", \"d\"로 이루어진 문자열을 \n",
        "입력으로 받아 순서대로 다음과 같은 조작을 했다고 합시다.\n",
        "\n",
        "\"w\" : 수에 1을 더한다.\n",
        "\"s\" : 수에 1을 뺀다.\n",
        "\"d\" : 수에 10을 더한다.\n",
        "\"a\" : 수에 10을 뺀다.\n",
        "그리고 매번 조작을 할 때마다 결괏값을 기록한 정수 배열이 numLog입니다. \n",
        "즉, numLog[i]는 numLog[0]로부터 총 i번의 조작을 가한 결과가 저장되어 있습니다.\n",
        "\n",
        "주어진 정수 배열 numLog에 대해 조작을 위해 입력받은 문자열을 \n",
        "return 하는 solution 함수를 완성해 주세요.\n",
        "\n",
        "2 ≤ log의 길이 ≤ 100,000\n",
        "-100,000 ≤ log[0] ≤ 100,000\n",
        "1 ≤ i ≤ log의 길이인 모든 i에 대해 |log[i] - log[i - 1]|의 값은 1 또는 10입니다.\n",
        "'''\n",
        "\n",
        "def solution(numLog):\n",
        "    answer = ''\n",
        "    for i, v in enumerate(numLog):\n",
        "        if i == 0: pass\n",
        "        elif numLog[i] - numLog[i-1] == 1:\n",
        "            answer += 'w'\n",
        "        elif numLog[i] - numLog[i-1] == -1:\n",
        "            answer += 's'\n",
        "        elif numLog[i] - numLog[i-1] == 10:\n",
        "            answer += 'd'\n",
        "        elif numLog[i] - numLog[i-1] == -10:\n",
        "            answer += 'a'\n",
        "   \n",
        "    return answer\n",
        "\n",
        "solution([0, 1, 0, 10, 0, 1, 0, 10, 0, -1, -2, -1])\n",
        "\n",
        "# def solution(log):\n",
        "#     res=''\n",
        "#     joystick=dict(zip([1,-1,10,-10],['w','s','d','a']))\n",
        "#     for i in range(1,len(log)):\n",
        "#         res+=joystick[log[i]-log[i-1]]\n",
        "#     return res"
      ],
      "metadata": {
        "colab": {
          "base_uri": "https://localhost:8080/",
          "height": 35
        },
        "id": "tgmALeJRxMNF",
        "outputId": "9c3592d6-7e1c-4ceb-aeef-32d6f41124a0"
      },
      "execution_count": 7,
      "outputs": [
        {
          "output_type": "execute_result",
          "data": {
            "text/plain": [
              "'wsdawsdassw'"
            ],
            "application/vnd.google.colaboratory.intrinsic+json": {
              "type": "string"
            }
          },
          "metadata": {},
          "execution_count": 7
        }
      ]
    }
  ]
}