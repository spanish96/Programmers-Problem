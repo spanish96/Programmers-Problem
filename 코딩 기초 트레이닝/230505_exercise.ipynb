{
  "nbformat": 4,
  "nbformat_minor": 0,
  "metadata": {
    "colab": {
      "provenance": []
    },
    "kernelspec": {
      "name": "python3",
      "display_name": "Python 3"
    },
    "language_info": {
      "name": "python"
    }
  },
  "cells": [
    {
      "cell_type": "code",
      "source": [
        "# 코드 처리하기\n",
        "\n",
        "'''\n",
        "문제 설명\n",
        "문자열 code가 주어집니다.\n",
        "code를 앞에서부터 읽으면서 만약 문자가 \"1\"이면 mode를 바꿉니다. \n",
        "mode에 따라 code를 읽어가면서 문자열 ret을 만들어냅니다.\n",
        "\n",
        "mode는 0과 1이 있으며, idx를 0 부터 code의 길이 - 1 까지 1씩 키워나가면서\n",
        "code[idx]의 값에 따라 다음과 같이 행동합니다.\n",
        "\n",
        "mode가 0일 때\n",
        "code[idx]가 \"1\"이 아니면 idx가 짝수일 때만 ret의 code[idx]를 추가합니다.\n",
        "code[idx]가 \"1\"이면 mode를 0에서 1로 바꿉니다.\n",
        "\n",
        "mode가 1일 때\n",
        "code[idx]가 \"1\"이 아니면 idx가 홀수일 때만 ret의 맨 뒤에 code[idx]를 추가합니다.\n",
        "code[idx]가 \"1\"이면 mode를 1에서 0으로 바꿉니다.\n",
        "문자열 code를 통해 만들어진 문자열 ret를 return 하는 solution 함수를 완성해 주세요.\n",
        "\n",
        "단, 시작할 때 mode는 0이며, \n",
        "return 하려는 ret가 만약 빈 문자열이라면 대신 \"EMPTY\"를 return 합니다.\n",
        "\n",
        "code = 'abc1abc1abc'\n",
        "result = 'acbac'\n",
        "'''\n",
        "\n",
        "code = 'abc1abc1abc' # len(code) = 11이므로 idx를 0부터 10까지 1씩키워나간다.\n",
        "result = 'acbac'\n",
        "\n",
        "def solution(code):\n",
        "    ret = ''\n",
        "    mode = 0\n",
        "    for idx in range(len(code)):\n",
        "        if code[idx] == '1' and mode == 0: # mode가 0이므로 mode 1로 변경\n",
        "                mode = 1\n",
        "        elif code[idx] == '1' and mode == 1: # mode가 1이므로 mode 0으으로 변경\n",
        "                mode = 0\n",
        "        elif code[idx] != '1':\n",
        "            if mode == 0: # mode = 0 상태로 계속 진행\n",
        "                if idx % 2 == 0:  # mode = 0 -> idx = 1이 아니고, 짝수일 때 ret에 code[idx] 추가\n",
        "                    ret += code[idx]\n",
        "            elif mode == 1: # mode = 1 상태로 계속 진행\n",
        "                if idx % 2 == 1: # mode = 1 -> idx = 1이 아니고, 홀수일 때 ret에 code[idx] 추가\n",
        "                    ret += code[idx]\n",
        "    if ret == '':\n",
        "        return \"EMPTY\"\n",
        "       \n",
        "    return ret\n",
        "\n",
        "solution(code)\n",
        "\n",
        "\n",
        "# def solution(code):\n",
        "#     answer = ''\n",
        "\n",
        "#     mode = 0\n",
        "#     for i in range(len(code)):\n",
        "#         if code[i] == '1':\n",
        "#             mode ^= 1\n",
        "#         else:\n",
        "#             if i % 2 == mode:\n",
        "#                 answer += code[i]\n",
        "\n",
        "#     return answer if answer else 'EMPTY'"
      ],
      "metadata": {
        "colab": {
          "base_uri": "https://localhost:8080/",
          "height": 35
        },
        "id": "5SFWcZbh4N_U",
        "outputId": "c4da0664-f750-46d9-91e3-879fc267b2da"
      },
      "execution_count": 22,
      "outputs": [
        {
          "output_type": "execute_result",
          "data": {
            "text/plain": [
              "'acbac'"
            ],
            "application/vnd.google.colaboratory.intrinsic+json": {
              "type": "string"
            }
          },
          "metadata": {},
          "execution_count": 22
        }
      ]
    },
    {
      "cell_type": "markdown",
      "source": [
        "## Day 6"
      ],
      "metadata": {
        "id": "oAkD7SZxscNb"
      }
    },
    {
      "cell_type": "code",
      "source": [
        "# 수열과 구간 쿼리 3\n",
        "\n",
        "'''\n",
        "정수 배열 arr와 2차원 정수 배열 queries이 주어집니다. \n",
        "queries의 원소는 각각 하나의 query를 나타내며, [i, j] 꼴입니다.\n",
        "\n",
        "각 query마다 순서대로 arr[i]의 값과 arr[j]의 값을 서로 바꿉니다.\n",
        "\n",
        "위 규칙에 따라 queries를 처리한 이후의 arr를 return 하는 \n",
        "solution 함수를 완성해 주세요.\n",
        "\n",
        "1 ≤ arr의 길이 ≤ 1,000\n",
        "0 ≤ arr의 원소 ≤ 1,000,000\n",
        "1 ≤ queries의 길이 ≤ 1,000\n",
        "0 ≤ i < j < arr의 길이\n",
        "\n",
        "arr = [0, 1, 2, 3, 4]\n",
        "queries = [[0, 3],[1, 2],[1, 4]]\n",
        "result = [3, 4, 1, 0, 2]\n",
        "\n",
        "'''\n",
        "arr = [0, 1, 2, 3, 4]\n",
        "queries = [[0, 3],[1, 2],[1, 4]]\n",
        "result = [3, 4, 1, 0, 2]\n",
        "\n",
        "\n",
        "def solution(arr, queries):\n",
        "    for i, v in queries: # i = 0, v = 3\n",
        "        arr.insert(i, arr[v])\n",
        "        arr.insert(v+1, arr[i+1])\n",
        "        del arr[i + 1]\n",
        "        del arr[v + 1]\n",
        "    return arr\n",
        "            \n",
        "\n",
        "\n",
        "\n",
        "\n",
        "\n",
        "solution(arr, queries)\n",
        "\n",
        "print(arr)\n",
        "\n",
        "# def solution(arr, queries):\n",
        "#     for a,b in queries:\n",
        "#         arr[a],arr[b]=arr[b],arr[a]\n",
        "#     return arr"
      ],
      "metadata": {
        "colab": {
          "base_uri": "https://localhost:8080/"
        },
        "id": "zJVID5IPbLsd",
        "outputId": "9f079e54-92da-497a-f710-0bcc54855105"
      },
      "execution_count": null,
      "outputs": [
        {
          "output_type": "stream",
          "name": "stdout",
          "text": [
            "[3, 4, 1, 0, 2]\n"
          ]
        }
      ]
    },
    {
      "cell_type": "code",
      "source": [],
      "metadata": {
        "id": "uHkFrXXWtFcB"
      },
      "execution_count": null,
      "outputs": []
    }
  ]
}