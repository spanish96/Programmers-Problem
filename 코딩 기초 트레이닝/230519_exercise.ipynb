{
  "nbformat": 4,
  "nbformat_minor": 0,
  "metadata": {
    "colab": {
      "provenance": []
    },
    "kernelspec": {
      "name": "python3",
      "display_name": "Python 3"
    },
    "language_info": {
      "name": "python"
    }
  },
  "cells": [
    {
      "cell_type": "markdown",
      "source": [
        "## Day 17 문자열\n"
      ],
      "metadata": {
        "id": "PaKJfAzc-AFb"
      }
    },
    {
      "cell_type": "code",
      "source": [
        "def execution_time(func):\n",
        "    start_time = process_time()\n",
        "    print(func)\n",
        "    end_time = process_time()\n",
        "    print(f'프로그램을 수행하는데 {end_time - start_time}초가 걸렸습니다.')"
      ],
      "metadata": {
        "id": "-JxsjQVa_a8N"
      },
      "execution_count": null,
      "outputs": []
    },
    {
      "cell_type": "markdown",
      "source": [
        "### 특정 문자열로 끝나는 가장 긴 부분 문자열 찾기\n"
      ],
      "metadata": {
        "id": "MZwt6xzc-N1_"
      }
    },
    {
      "cell_type": "code",
      "source": [
        "'''\n",
        "문제 설명\n",
        "문자열 myString과 pat가 주어집니다. \n",
        "myString의 부분 문자열중 pat로 끝나는 가장 긴 부분 문자열을 찾아서 \n",
        "return 하는 solution 함수를 완성해 주세요.\n",
        "\n",
        "5 ≤ myString ≤ 20\n",
        "1 ≤ pat ≤ 5\n",
        "pat은 반드시 myString의 부분 문자열로 주어집니다.\n",
        "myString과 pat에 등장하는 알파벳은 대문자와 소문자를 구분합니다.\n",
        "'''\n",
        "myString = 'AbCdEFG'\n",
        "pat = 'dE'\n",
        "result = 'AbCdE'\n",
        "\n",
        "myString = 'AAAAaaaa'\n",
        "pat = 'a'\n",
        "result = 'AAAAaaaa'\n",
        "\n",
        "def solution(myString, pat):\n",
        "    if myString.count(pat) == 1:\n",
        "        return myString[:myString.find(pat) + len(pat)]\n",
        "    elif myString.count(pat) == 0:\n",
        "        return ''\n",
        "    else:\n",
        "        i = 0\n",
        "        while myString[len(myString) - i:].find(pat) == -1:\n",
        "            i += 1\n",
        "        return myString[:len(myString) - i + len(pat)]\n",
        "solution(myString, pat)\n",
        "\n",
        "# solution=lambda x,y:x[:x.rindex(y)+len(y)]"
      ],
      "metadata": {
        "id": "SRYfiiYH_-Eh",
        "colab": {
          "base_uri": "https://localhost:8080/",
          "height": 36
        },
        "outputId": "17a5123f-9ba6-4c69-edbc-b9ded2e90470"
      },
      "execution_count": 13,
      "outputs": [
        {
          "output_type": "execute_result",
          "data": {
            "text/plain": [
              "'AAAAaaaa'"
            ],
            "application/vnd.google.colaboratory.intrinsic+json": {
              "type": "string"
            }
          },
          "metadata": {},
          "execution_count": 13
        }
      ]
    },
    {
      "cell_type": "markdown",
      "source": [
        "### 문자열이 몇 번 등장하는지 세기\n"
      ],
      "metadata": {
        "id": "W78FzuqZyU0E"
      }
    },
    {
      "cell_type": "code",
      "source": [
        "'''\n",
        "문제 설명\n",
        "문자열 myString과 pat이 주어집니다. \n",
        "myString에서 pat이 등장하는 횟수를 return 하는 solution 함수를 완성해 주세요.\n",
        "\n",
        "1 ≤ myString ≤ 1000\n",
        "1 ≤ pat ≤ 10\n",
        "'''\n",
        "\n",
        "myString = 'banana'\n",
        "pat = 'ana'\n",
        "result = 2\n",
        "\n",
        "myString = 'aaaa'\n",
        "pat = 'aa'\n",
        "result = 3\n",
        "\n",
        "\n",
        "def solution(myString, pat):\n",
        "    result = 0\n",
        "    for i in range(len(myString)):\n",
        "        if myString[i:].find(pat) == 0:\n",
        "            result += 1\n",
        "    return result\n",
        "\n",
        "solution(myString, pat)"
      ],
      "metadata": {
        "colab": {
          "base_uri": "https://localhost:8080/"
        },
        "id": "9eC_wcJqvwx2",
        "outputId": "06b3ab04-9750-4612-e288-0f688f8c16cc"
      },
      "execution_count": 22,
      "outputs": [
        {
          "output_type": "execute_result",
          "data": {
            "text/plain": [
              "3"
            ]
          },
          "metadata": {},
          "execution_count": 22
        }
      ]
    },
    {
      "cell_type": "markdown",
      "source": [
        "### ad 제거하기"
      ],
      "metadata": {
        "id": "WTNF0fKt2w--"
      }
    },
    {
      "cell_type": "code",
      "source": [
        "'''\n",
        "문제 설명\n",
        "문자열 배열 strArr가 주어집니다. \n",
        "배열 내의 문자열 중 \"ad\"라는 부분 문자열을 포함하고 있는 모든 문자열을 제거하고 \n",
        "남은 문자열을 순서를 유지하여 배열로 return 하는 solution 함수를 완성해 주세요.\n",
        "\n",
        "1 ≤ strArr의 길이 ≤ 1,000\n",
        "1 ≤ strArr의 원소의 길이 ≤ 20\n",
        "strArr의 원소는 알파벳 소문자로 이루어진 문자열입니다.\n",
        "'''\n",
        "strArr = [\"and\",\"notad\",\"abcd\"]\n",
        "# result = [\"and\",\"abcd\"]\n",
        "\n",
        "# strArr = [\"there\",\"are\",\"no\",\"a\",\"ds\"]\n",
        "# result = [\"there\",\"are\",\"no\",\"a\",\"ds\"]\n",
        "\n",
        "def solution(strArr):\n",
        "    result = []\n",
        "    for i in range(len(strArr)):\n",
        "        if strArr[i].find('ad') == -1:\n",
        "            result.append(strArr[i])\n",
        "        else:\n",
        "            pass\n",
        "    return result\n",
        "\n",
        "solution(strArr)\n",
        "\n",
        "\n",
        "\n",
        "# def solution(strArr):\n",
        "#     answer = []\n",
        "#     for x in strArr:\n",
        "#         if 'ad' in x: continue\n",
        "#         answer.append(x)\n",
        "#     return answer\n",
        "\n",
        "# def solution(strArr):\n",
        "#     return [word for word in strArr if 'ad' not in word]"
      ],
      "metadata": {
        "colab": {
          "base_uri": "https://localhost:8080/"
        },
        "id": "XRcPmiSD0nf7",
        "outputId": "1db5c7c6-2c50-4e1b-cafa-9f7d4c49ca7f"
      },
      "execution_count": 41,
      "outputs": [
        {
          "output_type": "execute_result",
          "data": {
            "text/plain": [
              "['and', 'abcd']"
            ]
          },
          "metadata": {},
          "execution_count": 41
        }
      ]
    },
    {
      "cell_type": "markdown",
      "source": [
        "### 공백으로 구분하기 1"
      ],
      "metadata": {
        "id": "ImBgqq-BLS4q"
      }
    },
    {
      "cell_type": "code",
      "source": [
        "'''\n",
        "문제 설명\n",
        "단어가 공백 한 개로 구분되어 있는 문자열 my_string이 매개변수로 주어질 때, \n",
        "my_string에 나온 단어를 앞에서부터 순서대로 담은 문자열 배열을 \n",
        "return 하는 solution 함수를 작성해 주세요.\n",
        "\n",
        "my_string은 영소문자와 공백으로만 이루어져 있습니다.\n",
        "1 ≤ my_string의 길이 ≤ 1,000\n",
        "my_string의 맨 앞과 맨 뒤에 글자는 공백이 아닙니다.\n",
        "'''\n",
        "\n",
        "my_string = \"i love you\"\n",
        "result = [\"i\", \"love\", \"you\"]\n",
        "\n",
        "# my_string = \"programmers\"\n",
        "# result = [\"programmers\"]\n",
        "\n",
        "def solution(my_string):\n",
        "    return list(map(str, my_string.split(' ')))\n",
        "\n",
        "solution(my_string)"
      ],
      "metadata": {
        "colab": {
          "base_uri": "https://localhost:8080/"
        },
        "id": "txmKbqdN3jOO",
        "outputId": "27c552ea-32eb-46f8-a85e-8b51eb0fb6ae"
      },
      "execution_count": 45,
      "outputs": [
        {
          "output_type": "execute_result",
          "data": {
            "text/plain": [
              "['i', 'love', 'you']"
            ]
          },
          "metadata": {},
          "execution_count": 45
        }
      ]
    },
    {
      "cell_type": "markdown",
      "source": [
        "### 공백으로 구분하기 2\n"
      ],
      "metadata": {
        "id": "CNyK6QP-MAFv"
      }
    },
    {
      "cell_type": "code",
      "source": [
        "'''\n",
        "문제 설명\n",
        "단어가 공백 한 개 이상으로 구분되어 있는 문자열 my_string이 매개변수로 주어질 때, \n",
        "my_string에 나온 단어를 앞에서부터 순서대로 담은 문자열 배열을 \n",
        "return 하는 solution 함수를 작성해 주세요.\n",
        "\n",
        "my_string은 영소문자와 공백으로만 이루어져 있습니다.\n",
        "1 ≤ my_string의 길이 ≤ 1,000\n",
        "my_string의 맨 앞과 맨 뒤에도 공백이 있을 수 있습니다.\n",
        "my_string에는 단어가 하나 이상 존재합니다.\n",
        "'''\n",
        "\n",
        "my_string = \" i    love  you\"\n",
        "result = [\"i\", \"love\", \"you\"]\n",
        "\n",
        "# my_string = \"    programmers  \"\n",
        "# result = [\"programmers\"]\n",
        "\n",
        "def solution(my_string):\n",
        "    answer = list(map(str, my_string.split(' ')))\n",
        "    result = []\n",
        "    for i in answer:\n",
        "        if i.strip():\n",
        "            result.append(i)\n",
        "\n",
        "    return result\n",
        "\n",
        "solution(my_string)"
      ],
      "metadata": {
        "colab": {
          "base_uri": "https://localhost:8080/"
        },
        "id": "B3gJo3qe3mg2",
        "outputId": "74b5c419-599c-438b-a41d-27921f671065"
      },
      "execution_count": 15,
      "outputs": [
        {
          "output_type": "execute_result",
          "data": {
            "text/plain": [
              "['i', 'love', 'you']"
            ]
          },
          "metadata": {},
          "execution_count": 15
        }
      ]
    },
    {
      "cell_type": "code",
      "source": [
        "def solution(my_string):\n",
        "    answer = my_string.split(' ')\n",
        "    answer = [s.strip() for s in answer if s.strip()]\n",
        "    return answer\n",
        "solution(my_string)"
      ],
      "metadata": {
        "colab": {
          "base_uri": "https://localhost:8080/"
        },
        "id": "gKKHIErTVgVr",
        "outputId": "b0361a57-0dcc-47f4-a6b6-f07eb2b2424e"
      },
      "execution_count": 13,
      "outputs": [
        {
          "output_type": "execute_result",
          "data": {
            "text/plain": [
              "['i', 'love', 'you']"
            ]
          },
          "metadata": {},
          "execution_count": 13
        }
      ]
    },
    {
      "cell_type": "code",
      "source": [],
      "metadata": {
        "id": "XhlnOhkTbwJG"
      },
      "execution_count": null,
      "outputs": []
    }
  ]
}