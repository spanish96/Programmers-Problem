{
  "nbformat": 4,
  "nbformat_minor": 0,
  "metadata": {
    "colab": {
      "provenance": []
    },
    "kernelspec": {
      "name": "python3",
      "display_name": "Python 3"
    },
    "language_info": {
      "name": "python"
    }
  },
  "cells": [
    {
      "cell_type": "code",
      "execution_count": null,
      "metadata": {
        "id": "BHlcX8P0BLiA"
      },
      "outputs": [],
      "source": [
        "# 코딩 기초 트레이닝"
      ]
    },
    {
      "cell_type": "markdown",
      "source": [
        "## Day 2"
      ],
      "metadata": {
        "id": "3OMtAAt9BeJ0"
      }
    },
    {
      "cell_type": "code",
      "source": [
        "# 덧셈식 출력하기\n",
        "\n",
        "a, b = map(int, input().strip().split(' '))\n",
        "print(f'{a} + {b} = {a+b}')"
      ],
      "metadata": {
        "id": "2ZOnCuUCdMku"
      },
      "execution_count": null,
      "outputs": []
    },
    {
      "cell_type": "code",
      "source": [
        "# 문자열 붙여서 출력하기\n",
        "\n",
        "str1, str2 = input().strip().split(' ')\n",
        "print(str1, str2, sep=\"\")"
      ],
      "metadata": {
        "id": "9veW8jNq7dH7"
      },
      "execution_count": null,
      "outputs": []
    },
    {
      "cell_type": "code",
      "source": [
        "# 문자열 돌리기\n",
        "\n",
        "str = input()\n",
        "for i in range(len(str)):\n",
        "    print(str[i])\n",
        "\n",
        "# print('\\n'.join(input()))"
      ],
      "metadata": {
        "id": "PIVwssol9OD6"
      },
      "execution_count": null,
      "outputs": []
    },
    {
      "cell_type": "code",
      "source": [
        "# 홀짝 구분하기\n",
        "\n",
        "a = int(input())\n",
        "if a % 2 == 0:\n",
        "    print(f\"{a} is even\")\n",
        "else:\n",
        "    print(f\"{a} is odd\")\n",
        "\n",
        "# n=int(input())\n",
        "# print(f\"{n} is {'eovdedn'[n&1::2]}\")\n",
        "\n",
        "# N = int(input())\n",
        "# print(f\"{N} is {'even' if N % 2 == 0 else 'odd'}\")"
      ],
      "metadata": {
        "id": "mEAu6vyn_0vW"
      },
      "execution_count": null,
      "outputs": []
    },
    {
      "cell_type": "code",
      "source": [
        "# 문자열 겹쳐쓰기\n",
        "\n",
        "def solution(my_string, overwrite_string, s):\n",
        "    answer = my_string[:s] + overwrite_string + my_string[len(overwrite_string)+s:]\n",
        "    return answer\n",
        "\n",
        "\n",
        "# def solution(my_string, overwrite_string, s):\n",
        "#     return my_string[:s] + overwrite_string + my_string[s + len(overwrite_string):]"
      ],
      "metadata": {
        "colab": {
          "base_uri": "https://localhost:8080/",
          "height": 36
        },
        "id": "srqxXZ7__32i",
        "outputId": "9432a44e-8536-4cdf-ceff-9e285fe9b9ad"
      },
      "execution_count": null,
      "outputs": [
        {
          "output_type": "execute_result",
          "data": {
            "text/plain": [
              "'HelloWorld'"
            ],
            "application/vnd.google.colaboratory.intrinsic+json": {
              "type": "string"
            }
          },
          "metadata": {},
          "execution_count": 25
        }
      ]
    },
    {
      "cell_type": "markdown",
      "source": [
        "## Day 3"
      ],
      "metadata": {
        "id": "BpYfdYDHDwuH"
      }
    },
    {
      "cell_type": "code",
      "source": [
        "# 문자열 섞기\n",
        "\n",
        "def solution(str1, str2):\n",
        "    a = ''\n",
        "    for i in range(len(str1)):\n",
        "        a += str1[i]\n",
        "        a += str2[i]\n",
        "    return a\n"
      ],
      "metadata": {
        "id": "IFMIjd_fChwW"
      },
      "execution_count": null,
      "outputs": []
    },
    {
      "cell_type": "code",
      "source": [
        "# 문자 리스트를 문자열로 변환하기\n",
        "\n",
        "def solution(arr):\n",
        "    a = ''\n",
        "    for i in range(len(arr)):\n",
        "        a += arr[i]\n",
        "    return a\n",
        "\n",
        "# def solution(arr):\n",
        "#     return ''.join(arr)"
      ],
      "metadata": {
        "id": "b598v8pIETjy"
      },
      "execution_count": null,
      "outputs": []
    },
    {
      "cell_type": "code",
      "source": [
        "# 문자열 곱하기\n",
        "\n",
        "def solution(my_string, k):\n",
        "    return my_string * k\n"
      ],
      "metadata": {
        "id": "GKP7dTfrEl-4"
      },
      "execution_count": null,
      "outputs": []
    },
    {
      "cell_type": "code",
      "source": [
        "# 더 크게 합치기\n",
        "\n",
        "def solution(a, b):\n",
        "    a_b = int(str(a)+str(b))\n",
        "    b_a = int(str(b)+str(a))\n",
        "    if a_b>=b_a: return a_b\n",
        "    elif b_a>a_b: return b_a\n",
        "\n",
        "# def solution(a, b):\n",
        "#     a,b=str(a),str(b)\n",
        "#     return max(int(a+b), int(b+a))\n"
      ],
      "metadata": {
        "id": "63405l48Fjef"
      },
      "execution_count": null,
      "outputs": []
    },
    {
      "cell_type": "code",
      "source": [
        "# 두 수의 연산값 비교하기\n",
        "\n",
        "def solution(a, b): \n",
        "    return max(int(str(a)+str(b)), 2*a*b)"
      ],
      "metadata": {
        "id": "-7xgNW1-Gpnj"
      },
      "execution_count": null,
      "outputs": []
    }
  ]
}