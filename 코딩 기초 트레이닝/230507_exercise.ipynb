{
  "nbformat": 4,
  "nbformat_minor": 0,
  "metadata": {
    "colab": {
      "provenance": []
    },
    "kernelspec": {
      "name": "python3",
      "display_name": "Python 3"
    },
    "language_info": {
      "name": "python"
    }
  },
  "cells": [
    {
      "cell_type": "markdown",
      "source": [
        "## Day 8"
      ],
      "metadata": {
        "id": "PaKJfAzc-AFb"
      }
    },
    {
      "cell_type": "code",
      "execution_count": 19,
      "metadata": {
        "colab": {
          "base_uri": "https://localhost:8080/"
        },
        "id": "m6zrHOUy98zj",
        "outputId": "f2df15eb-1024-4455-b0cf-9ad4a02976ca"
      },
      "outputs": [
        {
          "output_type": "execute_result",
          "data": {
            "text/plain": [
              "False"
            ]
          },
          "metadata": {},
          "execution_count": 19
        }
      ],
      "source": [
        "# 간단한 논리 연산\n",
        "\n",
        "'''\n",
        "boolean 변수 x1, x2, x3, x4가 매개변수로 주어질 때, \n",
        "다음의 식의 true/false를 return 하는 solution 함수를 작성해 주세요.\n",
        "\n",
        "(x1 ∨ x2) ∧ (x3 ∨ x4)\n",
        "\n",
        "∨과 ∧의 진리표는 다음과 같습니다.\n",
        "\n",
        "x\ty\tx ∨ y\tx ∧ y\n",
        "T\tT\t  T\t       T\n",
        "T\tF\t  T\t       F\n",
        "F\tT\t  T\t       F\n",
        "F\tF\t  F\t       F\n",
        "'''\n",
        "# x1 = False\n",
        "# x2 = True\n",
        "# x3 = True\n",
        "# x4 = True\n",
        "# result = True\n",
        "\n",
        "x1 = True\n",
        "x2 = False\n",
        "x3 = False\n",
        "x4 = False\n",
        "result = False\n",
        "\n",
        "\n",
        "def solution(x1, x2, x3, x4):\n",
        "    if (x1 == True or x2 == True) and (x3 == True or x4 == True):\n",
        "        return True\n",
        "    else:\n",
        "        return False\n",
        "\n",
        "\n",
        "\n",
        "solution(x1, x2, x3, x4)\n",
        "\n",
        "# def solution(x1, x2, x3, x4):\n",
        "#     return (x1 | x2) & (x3 | x4)\n"
      ]
    }
  ]
}