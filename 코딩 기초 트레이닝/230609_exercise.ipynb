{
  "nbformat": 4,
  "nbformat_minor": 0,
  "metadata": {
    "colab": {
      "provenance": []
    },
    "kernelspec": {
      "name": "python3",
      "display_name": "Python 3"
    },
    "language_info": {
      "name": "python"
    }
  },
  "cells": [
    {
      "cell_type": "code",
      "execution_count": 34,
      "metadata": {
        "id": "DsUl-5knu-cu",
        "colab": {
          "base_uri": "https://localhost:8080/"
        },
        "outputId": "ec33284d-7329-4443-d8f1-ca9695f5b0f2"
      },
      "outputs": [
        {
          "output_type": "execute_result",
          "data": {
            "text/plain": [
              "['EMPTY']"
            ]
          },
          "metadata": {},
          "execution_count": 34
        }
      ],
      "source": [
        "# 세 개의 구분자\n",
        "# https://school.programmers.co.kr/learn/courses/30/lessons/181862\n",
        "\n",
        "myStr = 'cabab'\n",
        "\n",
        "def solution(myStr):\n",
        "    for i in ['a', 'b', 'c']:\n",
        "        myStr = myStr.replace(i, ' ')\n",
        "    myStr = myStr.split(' ')\n",
        "    result = [j for j in myStr if j]\n",
        "    if result:\n",
        "        return result\n",
        "    else:\n",
        "        return ['EMPTY']\n",
        "solution(myStr)\n",
        "\n",
        "# def solution(myStr):\n",
        "#     answer = [x for x in myStr.replace('a', ' ').replace('b', ' ').replace('c', ' ').split() if x]\n",
        "#     return answer if answer else ['EMPTY']"
      ]
    },
    {
      "cell_type": "code",
      "source": [
        "# 배열의 원소만큼 추가하기\n",
        "# https://school.programmers.co.kr/learn/courses/30/lessons/181861\n",
        "\n",
        "arr = [5, 1, 4]\n",
        "\n",
        "def solution(arr):\n",
        "    result = []\n",
        "    for i in arr:\n",
        "        n = 0\n",
        "        while n < i:\n",
        "            result.append(i)\n",
        "            n += 1\n",
        "    return result\n",
        "\n",
        "solution(arr)\n",
        "\n",
        "\n",
        "# def solution(arr):\n",
        "#     return [i for i in arr for j in range(i)]"
      ],
      "metadata": {
        "colab": {
          "base_uri": "https://localhost:8080/"
        },
        "id": "C4pPyVUZ_QJS",
        "outputId": "e9f9c248-45f9-471b-a558-ba3e19323de3"
      },
      "execution_count": 36,
      "outputs": [
        {
          "output_type": "execute_result",
          "data": {
            "text/plain": [
              "[5, 5, 5, 5, 5, 1, 4, 4, 4, 4]"
            ]
          },
          "metadata": {},
          "execution_count": 36
        }
      ]
    },
    {
      "cell_type": "code",
      "source": [
        "# 빈 배열에 추가, 삭제하기\n",
        "# https://school.programmers.co.kr/learn/courses/30/lessons/181860\n",
        "\n",
        "arr = [3, 2, 4, 1, 3]\n",
        "flag = [True, False, True, False, False]\n",
        "\n",
        "def solution(arr, flag):\n",
        "    result = []\n",
        "    for i in range(len(arr)):\n",
        "        if flag[i]:\n",
        "            for _ in range(arr[i] * 2):\n",
        "                result.append(arr[i])\n",
        "        else:\n",
        "            for _ in range(arr[i]):\n",
        "                result.pop()\n",
        "    return result\n",
        "solution(arr, flag)"
      ],
      "metadata": {
        "colab": {
          "base_uri": "https://localhost:8080/"
        },
        "id": "AWvf97kV_2_c",
        "outputId": "c5eab9de-1fd5-427d-88a6-87f542c6eeea"
      },
      "execution_count": 40,
      "outputs": [
        {
          "output_type": "execute_result",
          "data": {
            "text/plain": [
              "[3, 3, 3, 3, 4, 4, 4, 4]"
            ]
          },
          "metadata": {},
          "execution_count": 40
        }
      ]
    },
    {
      "cell_type": "code",
      "source": [
        "# 배열 만들기 6\n",
        "# https://school.programmers.co.kr/learn/courses/30/lessons/181859\n",
        "\n",
        "arr = [0, 1, 1, 1, 0]\n",
        "\n",
        "def solution(arr):\n",
        "    result = []\n",
        "    for i in range(len(arr)):\n",
        "        if result == []:\n",
        "            result.append(arr[i])\n",
        "        elif result[-1] == arr[i]:\n",
        "            result.pop()\n",
        "        elif result[-1] != arr[i]:\n",
        "            result.append(arr[i])\n",
        "    if result:\n",
        "        return result\n",
        "    else:\n",
        "        return [-1]\n",
        "solution(arr)\n",
        "\n",
        "\n",
        "# def solution(arr):\n",
        "#     stk = []\n",
        "#     for i in range(len(arr)):\n",
        "#         if stk and stk[-1] == arr[i]:\n",
        "#             stk.pop()\n",
        "#         else:\n",
        "#             stk.append(arr[i])\n",
        "\n",
        "#     return stk or [-1]"
      ],
      "metadata": {
        "colab": {
          "base_uri": "https://localhost:8080/"
        },
        "id": "nxdFD15yCglS",
        "outputId": "947baa3a-7bc3-473f-9087-b7ced4b81692"
      },
      "execution_count": 43,
      "outputs": [
        {
          "output_type": "execute_result",
          "data": {
            "text/plain": [
              "[0, 1, 0]"
            ]
          },
          "metadata": {},
          "execution_count": 43
        }
      ]
    },
    {
      "cell_type": "code",
      "source": [
        "# 무작위로 K개의 수 뽑기\n",
        "# https://school.programmers.co.kr/learn/courses/30/lessons/181858\n",
        "\n",
        "arr = [3, 1, 1, 1, 1]\n",
        "k = 4\n",
        "\n",
        "def solution(arr, k):\n",
        "    result = []\n",
        "    for i in range(len(arr)):\n",
        "        if arr[i] in result:\n",
        "            pass\n",
        "        else:\n",
        "            result.append(arr[i])\n",
        "    if len(result) > k:\n",
        "        return result[:k]\n",
        "    else:\n",
        "        for i in range(k-len(result)):\n",
        "            result.append(-1)\n",
        "    return result\n",
        "\n",
        "solution(arr, k)\n",
        "\n",
        "# def solution(arr, k):\n",
        "#     ret = []\n",
        "#     for i in arr:\n",
        "#         if i not in ret:\n",
        "#             ret.append(i)\n",
        "#         if len(ret) == k:\n",
        "#             break\n",
        "\n",
        "#     return ret + [-1] * (k - len(ret))"
      ],
      "metadata": {
        "colab": {
          "base_uri": "https://localhost:8080/"
        },
        "id": "7F0PfdEwUA7H",
        "outputId": "d8f0696c-f645-4561-8316-eec4ed5d57ee"
      },
      "execution_count": 56,
      "outputs": [
        {
          "output_type": "execute_result",
          "data": {
            "text/plain": [
              "[3, 1, -1, -1]"
            ]
          },
          "metadata": {},
          "execution_count": 56
        }
      ]
    },
    {
      "cell_type": "code",
      "source": [],
      "metadata": {
        "id": "RTJXRyl6nV1l"
      },
      "execution_count": null,
      "outputs": []
    }
  ]
}