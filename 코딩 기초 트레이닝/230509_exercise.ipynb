{
  "nbformat": 4,
  "nbformat_minor": 0,
  "metadata": {
    "colab": {
      "provenance": []
    },
    "kernelspec": {
      "name": "python3",
      "display_name": "Python 3"
    },
    "language_info": {
      "name": "python"
    }
  },
  "cells": [
    {
      "cell_type": "markdown",
      "source": [
        "## Day 9\n"
      ],
      "metadata": {
        "id": "PaKJfAzc-AFb"
      }
    },
    {
      "cell_type": "code",
      "source": [
        "# 배열 만들기 5\n",
        "\n",
        "'''\n",
        "문제 설명\n",
        "문자열 배열 intStrs와 정수 k, s, l가 주어집니다. \n",
        "intStrs의 원소는 숫자로 이루어져 있습니다.\n",
        "\n",
        "배열 intStrs의 각 원소마다 s번 인덱스에서 시작하는 길이 l짜리 부분 \n",
        "문자열을 잘라내 정수로 변환합니다. \n",
        "이때 변환한 정수값이 k보다 큰 값들을 담은 배열을 return 하는 solution 함수를 완성해 주세요.\n",
        "\n",
        "0 ≤ s < 100\n",
        "1 ≤ l ≤ 8\n",
        "10l - 1 ≤ k < 10l\n",
        "1 ≤ intStrs의 길이 ≤ 10,000\n",
        "s + l ≤ intStrs의 원소의 길이 ≤ 120\n",
        "'''\n",
        "\n",
        "intStrs = ['0123456789', '9876543210', '9999999999999']\n",
        "k = 50000\n",
        "s = 5\n",
        "l = 5\n",
        "result = [56789, 99999]\n",
        "\n",
        "def solution(intStrs, k, s, l):\n",
        "    result = []\n",
        "    for i in range(len(intStrs)):\n",
        "        if int(intStrs[i][s:s + l]) > k:\n",
        "            result.append(int(intStrs[i][s:s + l]))\n",
        "\n",
        "    return result\n",
        "\n",
        "solution(intStrs, k, s, l)\n",
        "\n",
        "\n",
        "# def solution(intStrs, k, s, l):\n",
        "#     return [int(intstr[s:s+l]) for intstr in intStrs if int(intstr[s:s+l]) > k]"
      ],
      "metadata": {
        "id": "lyzyDdhGiWFv",
        "colab": {
          "base_uri": "https://localhost:8080/"
        },
        "outputId": "98cbafa8-c813-4be7-9ae6-fba511de8bca"
      },
      "execution_count": 4,
      "outputs": [
        {
          "output_type": "execute_result",
          "data": {
            "text/plain": [
              "['56789', '99999']"
            ]
          },
          "metadata": {},
          "execution_count": 4
        }
      ]
    },
    {
      "cell_type": "code",
      "source": [
        "# 부분 문자열 이어 붙여 문자열 만들기\n",
        "'''\n",
        "문제 설명\n",
        "길이가 같은 문자열 배열 my_strings와 이차원 정수 배열 parts가 \n",
        "매개변수로 주어집니다. parts[i]는 [s, e] 형태로, \n",
        "my_string[i]의 인덱스 s부터 인덱스 e까지의 부분 문자열을 의미합니다. \n",
        "\n",
        "각 my_strings의 원소의 parts에 해당하는 부분 문자열을 \n",
        "순서대로 이어 붙인 문자열을 return 하는 solution 함수를 작성해 주세요.\n",
        "\n",
        "1 ≤ my_strings의 길이 = parts의 길이 ≤ 100\n",
        "1 ≤ my_strings의 원소의 길이 ≤ 100\n",
        "parts[i]를 [s, e]라 할 때, 다음을 만족합니다.\n",
        "0 ≤ s ≤ e < my_strings[i]의 길이\n",
        "'''\n",
        "\n",
        "my_strings = ['progressive', 'hamburger', 'hammer', 'ahocorasick']\n",
        "parts = [[0, 4], [1, 2], [3, 5], [7, 7]]\n",
        "result = 'programmers'\n",
        "\n",
        "def solution(my_strings, parts):\n",
        "    result = ''\n",
        "    for i, (s, e) in enumerate(parts):\n",
        "        result += my_strings[i][s:e+1]\n",
        "    return result\n",
        "solution(my_strings, parts)\n"
      ],
      "metadata": {
        "colab": {
          "base_uri": "https://localhost:8080/",
          "height": 36
        },
        "id": "4NYM0QpDahPY",
        "outputId": "d8158022-3444-4846-b62c-7af443cee022"
      },
      "execution_count": 14,
      "outputs": [
        {
          "output_type": "execute_result",
          "data": {
            "text/plain": [
              "'programmers'"
            ],
            "application/vnd.google.colaboratory.intrinsic+json": {
              "type": "string"
            }
          },
          "metadata": {},
          "execution_count": 14
        }
      ]
    },
    {
      "cell_type": "code",
      "source": [
        "# 문자열의 뒤의 n글자\n",
        "\n",
        "'''\n",
        "문제 설명\n",
        "문자열 my_string과 정수 n이 매개변수로 주어질 때, \n",
        "my_string의 뒤의 n글자로 이루어진 문자열을 return 하는 solution 함수를 작성해 주세요.\n",
        "\n",
        "my_string은 숫자와 알파벳으로 이루어져 있습니다.\n",
        "1 ≤ my_string의 길이 ≤ 1,000\n",
        "1 ≤ n ≤ my_string의 길이\n",
        "'''\n",
        "my_string = 'ProgrammerS123'\n",
        "n = 11\n",
        "result = 'grammserS123'\n",
        "\n",
        "my_string = 'He110W0r1d'\n",
        "n = 5\n",
        "result = 'W0r1d'\n",
        "\n",
        "def solution(my_string, n):\n",
        "    return my_string[len(my_string)-n:len(my_string)]\n",
        "\n",
        "solution(my_string, n)\n",
        "\n",
        "\n",
        "# def solution(my_string, n):\n",
        "#     return my_string[-n:]"
      ],
      "metadata": {
        "colab": {
          "base_uri": "https://localhost:8080/",
          "height": 36
        },
        "id": "cysz0zMUcHuN",
        "outputId": "d083e9de-ec95-4c8d-bad0-24bd292efaa3"
      },
      "execution_count": 20,
      "outputs": [
        {
          "output_type": "execute_result",
          "data": {
            "text/plain": [
              "'W0r1d'"
            ],
            "application/vnd.google.colaboratory.intrinsic+json": {
              "type": "string"
            }
          },
          "metadata": {},
          "execution_count": 20
        }
      ]
    },
    {
      "cell_type": "code",
      "source": [
        "# 접미사 배열\n",
        "'''\n",
        "문제 설명\n",
        "어떤 문자열에 대해서 접미사는 특정 인덱스부터 시작하는 문자열을 의미합니다. \n",
        "예를 들어, \"banana\"의 모든 접미사는 \n",
        "\"banana\", \"anana\", \"nana\", \"ana\", \"na\", \"a\"입니다.\n",
        "문자열 my_string이 매개변수로 주어질 때, \n",
        "my_string의 모든 접미사를 사전순으로 정렬한 문자열 배열을 return 하는 \n",
        "solution 함수를 작성해 주세요.\n",
        "\n",
        "my_string은 알파벳 소문자로만 이루어져 있습니다.\n",
        "1 ≤ my_string의 길이 ≤ 100\n",
        "'''\n",
        "my_string = 'banana'\n",
        "result = [\"a\", \"ana\", \"anana\", \"banana\", \"na\", \"nana\"]\n",
        "\n",
        "# my_string = 'programmers'\n",
        "# result = [\"ammers\", \"ers\", \"grammers\", \"mers\", \"mmers\", \"ogrammers\", \n",
        "#           \"programmers\", \"rammers\", \"rogrammers\", \"rs\", \"s\"]\n",
        "\n",
        "def solution(my_string):\n",
        "    result = []\n",
        "    for i in range(len(my_string)):\n",
        "        result.append(my_string[i:])\n",
        "    result.sort()\n",
        "    return result\n",
        "solution(my_string)\n",
        "\n",
        "def solution(my_string):\n",
        "    result = [my_string[i:] for i in range(len(my_string))]\n",
        "    result.sort()\n",
        "    return result\n",
        "solution(my_string)\n",
        "\n",
        "# def solution(my_string):\n",
        "#     return sorted(my_string[i:] for i in range(len(my_string)))"
      ],
      "metadata": {
        "colab": {
          "base_uri": "https://localhost:8080/"
        },
        "id": "0KAdi_mydh8T",
        "outputId": "fd17205a-331c-49eb-bbf9-b411bd843fac"
      },
      "execution_count": 26,
      "outputs": [
        {
          "output_type": "execute_result",
          "data": {
            "text/plain": [
              "['a', 'ana', 'anana', 'banana', 'na', 'nana']"
            ]
          },
          "metadata": {},
          "execution_count": 26
        }
      ]
    },
    {
      "cell_type": "code",
      "source": [
        "# 접미사인지 확인하기\n",
        "'''\n",
        "문제 설명\n",
        "어떤 문자열에 대해서 접미사는 특정 인덱스부터 시작하는 문자열을 의미합니다. \n",
        "예를 들어, \"banana\"의 모든 접미사는 \n",
        "\"banana\", \"anana\", \"nana\", \"ana\", \"na\", \"a\"입니다.\n",
        "문자열 my_string과 is_suffix가 주어질 때, \n",
        "is_suffix가 my_string의 접미사라면 1을, 아니면 0을 return 하는 \n",
        "solution 함수를 작성해 주세요.\n",
        "\n",
        "1 ≤ my_string의 길이 ≤ 100\n",
        "1 ≤ is_suffix의 길이 ≤ 100\n",
        "my_string과 is_suffix는 영소문자로만 이루어져 있습니다.\n",
        "'''\n",
        "my_string = 'banana'\n",
        "is_suffix = 'ana'\n",
        "result = 1\n",
        "\n",
        "# my_string = 'banana'\n",
        "# is_suffix = 'nan'\n",
        "# result = 0\n",
        "\n",
        "# my_string = 'banana'\n",
        "# is_suffix = 'wxyz'\n",
        "# result = 0\n",
        "\n",
        "# my_string = 'banana'\n",
        "# is_suffix = 'abanana'\n",
        "# result = 0\n",
        "\n",
        "def solution(my_string, is_suffix):\n",
        "    my_string_list = [my_string[i:] for i in range(len(my_string))]\n",
        "    if is_suffix in my_string_list: return 1\n",
        "    else: return 0\n",
        "solution(my_string, is_suffix)\n",
        "\n",
        "# def solution(m, s):\n",
        "#     if m[-len(s):]==s: return 1\n",
        "#     return 0\n",
        "\n",
        "# def solution(my_string, is_suffix):\n",
        "#     return int(my_string.endswith(is_suffix))"
      ],
      "metadata": {
        "colab": {
          "base_uri": "https://localhost:8080/"
        },
        "id": "vuudXPPreV7t",
        "outputId": "cb45a825-6d84-449f-e79d-6b933c18dda8"
      },
      "execution_count": 29,
      "outputs": [
        {
          "output_type": "execute_result",
          "data": {
            "text/plain": [
              "1"
            ]
          },
          "metadata": {},
          "execution_count": 29
        }
      ]
    },
    {
      "cell_type": "markdown",
      "source": [
        "## Day 10"
      ],
      "metadata": {
        "id": "ZP6BgsLliaFc"
      }
    },
    {
      "cell_type": "code",
      "source": [
        "# 문자열의 앞의 n글자\n",
        "'''\n",
        "문제 설명\n",
        "문자열 my_string과 정수 n이 매개변수로 주어질 때, \n",
        "my_string의 앞의 n글자로 이루어진 문자열을 return 하는 solution 함수를 작성해 주세요.\n",
        "\n",
        "my_string은 숫자와 알파벳으로 이루어져 있습니다.\n",
        "1 ≤ my_string의 길이 ≤ 1,000\n",
        "1 ≤ n ≤ my_string의 길이\n",
        "'''\n",
        "\n",
        "my_string = 'ProgrammerS123'\n",
        "n = 11\n",
        "result = 'ProgrammerS'\n",
        "\n",
        "# my_string = 'He110W0r1d'\n",
        "# n = 5\n",
        "# result = 'He110'\n",
        "\n",
        "def solution(my_string, n):\n",
        "    return my_string[:n]\n",
        "\n",
        "solution(my_string, n)"
      ],
      "metadata": {
        "colab": {
          "base_uri": "https://localhost:8080/",
          "height": 36
        },
        "id": "1fBsifTUiEcs",
        "outputId": "5d4a7770-4607-4fc0-90df-24d2a054b2fe"
      },
      "execution_count": 32,
      "outputs": [
        {
          "output_type": "execute_result",
          "data": {
            "text/plain": [
              "'ProgrammerS'"
            ],
            "application/vnd.google.colaboratory.intrinsic+json": {
              "type": "string"
            }
          },
          "metadata": {},
          "execution_count": 32
        }
      ]
    },
    {
      "cell_type": "code",
      "source": [
        "# 접두사인지 확인하기\n",
        "'''\n",
        "문제 설명\n",
        "어떤 문자열에 대해서 접두사는 특정 인덱스까지의 문자열을 의미합니다. \n",
        "예를 들어, \"banana\"의 모든 접두사는 \n",
        "\"b\", \"ba\", \"ban\", \"bana\", \"banan\", \"banana\"입니다.\n",
        "문자열 my_string과 is_prefix가 주어질 때, \n",
        "is_prefix가 my_string의 접두사라면 1을, 아니면 0을 \n",
        "return 하는 solution 함수를 작성해 주세요.\n",
        "\n",
        "1 ≤ my_string의 길이 ≤ 100\n",
        "1 ≤ is_prefix의 길이 ≤ 100\n",
        "my_string과 is_prefix는 영소문자로만 이루어져 있습니다.\n",
        "'''\n",
        "my_string = 'banana'\n",
        "is_prefix = 'ban'\n",
        "result = 1\n",
        "\n",
        "# my_string = 'banana'\n",
        "# is_prefix = 'nan'\n",
        "# result = 0\n",
        "\n",
        "# my_string = 'banana'\n",
        "# is_prefix = 'abcd'\n",
        "# result = 0\n",
        "\n",
        "# my_string = 'banana'\n",
        "# is_prefix = 'bananan'\n",
        "# result = 0\n",
        "\n",
        "def solution(my_string, is_prefix):\n",
        "    my_string_list = [my_string[:len(my_string)-i] for i in range(len(my_string))]\n",
        "    if is_prefix in my_string_list: return 1\n",
        "    else: return 0\n",
        "         \n",
        "\n",
        "solution(my_string, is_prefix)\n",
        "\n",
        "# def solution(my_string, is_prefix):\n",
        "#     return int(my_string.startswith(is_prefix))\n"
      ],
      "metadata": {
        "colab": {
          "base_uri": "https://localhost:8080/"
        },
        "id": "hyfFgRvoi2FY",
        "outputId": "0b54e25a-3516-44b8-9ff1-2b248913572d"
      },
      "execution_count": 35,
      "outputs": [
        {
          "output_type": "execute_result",
          "data": {
            "text/plain": [
              "1"
            ]
          },
          "metadata": {},
          "execution_count": 35
        }
      ]
    },
    {
      "cell_type": "code",
      "source": [
        "# 문자열 뒤집기\n",
        "\n",
        "'''\n",
        "문제 설명\n",
        "문자열 my_string과 정수 s, e가 매개변수로 주어질 때, \n",
        "my_string에서 인덱스 s부터 인덱스 e까지를 뒤집은 문자열을 \n",
        "return 하는 solution 함수를 작성해 주세요.\n",
        "\n",
        "my_string은 숫자와 알파벳으로만 이루어져 있습니다.\n",
        "1 ≤ my_string의 길이 ≤ 1,000\n",
        "0 ≤ s ≤ e < my_string의 길이\n",
        "'''\n",
        "\n",
        "my_string = 'Progra21Sremm3'\n",
        "s = 6\n",
        "e = 12\n",
        "result = 'ProgrammerS123'\n",
        "\n",
        "my_string = 'Stanley1yelnatS'\n",
        "s = 4\n",
        "e = 10\n",
        "result = 'Stanley1yelnatS'\n",
        "\n",
        "def solution(my_string, s, e):\n",
        "    return my_string[:s] + ''.join(list(reversed(my_string[s:e+1]))) + my_string[e+1:]\n",
        "\n",
        "solution(my_string, s, e)\n",
        "\n"
      ],
      "metadata": {
        "colab": {
          "base_uri": "https://localhost:8080/",
          "height": 36
        },
        "id": "fAQK9uPqjhih",
        "outputId": "687041c6-b877-4af2-c639-b5d417b0dfce"
      },
      "execution_count": 58,
      "outputs": [
        {
          "output_type": "execute_result",
          "data": {
            "text/plain": [
              "'Stanley1yelnatS'"
            ],
            "application/vnd.google.colaboratory.intrinsic+json": {
              "type": "string"
            }
          },
          "metadata": {},
          "execution_count": 58
        }
      ]
    },
    {
      "cell_type": "code",
      "source": [
        "# 세로 읽기\n",
        "\n",
        "'''\n",
        "문제 설명\n",
        "문자열 my_string과 두 정수 m, c가 주어집니다. \n",
        "my_string을 한 줄에 m 글자씩 가로로 적었을 때 \n",
        "왼쪽부터 세로로 c번째 열에 적힌 글자들을 문자열로 return 하는\n",
        "solution 함수를 작성해 주세요.\n",
        "\n",
        "my_string은 영소문자로 이루어져 있습니다.\n",
        "1 ≤ m ≤ my_string의 길이 ≤ 1,000\n",
        "m은 my_string 길이의 약수로만 주어집니다.\n",
        "1 ≤ c ≤ m\n",
        "'''\n",
        "\n",
        "my_string = 'ihrhbakrfpndopljhygc'\n",
        "m = 4\n",
        "c = 2\n",
        "result = 'happy'\n",
        "\n",
        "my_string = 'programmers'\n",
        "m = 1\n",
        "c = 1\n",
        "result = 'programmers'\n",
        "\n",
        "def solution(my_string, m, c):\n",
        "    answer = ''\n",
        "    for i in range(int(len(my_string)/m)):\n",
        "        answer += my_string[m*i:m*(i+1)][c-1]\n",
        "    return answer\n",
        "\n",
        "# print(my_string[:4][1]) # m*0:m*1\n",
        "# print(my_string[4:4+4][1]) # m*1:m*2\n",
        "# print(my_string[8:8+4][1]) # m*2:m*3\n",
        "# print(my_string[12:12+4][1])\n",
        "# print(my_string[16:16+4][1])\n",
        "\n",
        "solution(my_string, m, c)\n",
        "\n",
        "def solution(my_string, m, c):\n",
        "    return ''.join([my_string[m*i:m*(i+1)][c-1] for i in range(int(len(my_string)/m))])\n",
        "\n",
        "solution(my_string, m, c)\n",
        "\n",
        "# def solution(s, m, c):\n",
        "#     return s[c-1::m]"
      ],
      "metadata": {
        "colab": {
          "base_uri": "https://localhost:8080/",
          "height": 36
        },
        "id": "J3R6jZnOkdS-",
        "outputId": "25a9e9d3-ae41-48e5-aadf-3b7beb2bb78b"
      },
      "execution_count": 72,
      "outputs": [
        {
          "output_type": "execute_result",
          "data": {
            "text/plain": [
              "'programmers'"
            ],
            "application/vnd.google.colaboratory.intrinsic+json": {
              "type": "string"
            }
          },
          "metadata": {},
          "execution_count": 72
        }
      ]
    },
    {
      "cell_type": "code",
      "source": [
        "# qr code\n",
        "\n",
        "'''\n",
        "문제 설명\n",
        "두 정수 q, r과 문자열 code가 주어질 때, \n",
        "code의 각 인덱스를 q로 나누었을 때 나머지가 r인 위치의 문자를 \n",
        "앞에서부터 순서대로 이어 붙인 문자열을 return 하는 solution 함수를 작성해 주세요.\n",
        "\n",
        "0 ≤ r < q ≤ 20\n",
        "r < code의 길이 ≤ 1,000\n",
        "code는 영소문자로만 이루어져 있습니다.\n",
        "'''\n",
        "q = 3\n",
        "r = 1\n",
        "code = 'qjnwezgrpirldywt'\n",
        "result = 'jerry'\n",
        "\n",
        "# q = 1\n",
        "# r = 0\n",
        "# code = 'programmers'\n",
        "# result = 'programmers'\n",
        "\n",
        "def solution(q, r, code):\n",
        "    result = ''\n",
        "    for i in range(len(code)):\n",
        "        if i % q == r:\n",
        "            result += code[i]\n",
        "    return result\n",
        "\n",
        "def solution(q, r, code):\n",
        "    return ''.join([code[i] for i in range(len(code)) if i % q == r])\n",
        "\n",
        "solution(q, r, code)\n",
        "\n",
        "# def solution(q, r, code):\n",
        "#     return code[r::q]"
      ],
      "metadata": {
        "colab": {
          "base_uri": "https://localhost:8080/",
          "height": 36
        },
        "id": "GeSSq2ecmuDC",
        "outputId": "251fba83-5af6-4d2b-b35c-c1f4a0c2e99e"
      },
      "execution_count": 77,
      "outputs": [
        {
          "output_type": "execute_result",
          "data": {
            "text/plain": [
              "'jerry'"
            ],
            "application/vnd.google.colaboratory.intrinsic+json": {
              "type": "string"
            }
          },
          "metadata": {},
          "execution_count": 77
        }
      ]
    },
    {
      "cell_type": "code",
      "source": [],
      "metadata": {
        "id": "1BAswjdypLqT"
      },
      "execution_count": null,
      "outputs": []
    }
  ]
}