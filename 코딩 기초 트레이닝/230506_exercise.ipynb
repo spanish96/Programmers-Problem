{
  "nbformat": 4,
  "nbformat_minor": 0,
  "metadata": {
    "colab": {
      "provenance": []
    },
    "kernelspec": {
      "name": "python3",
      "display_name": "Python 3"
    },
    "language_info": {
      "name": "python"
    }
  },
  "cells": [
    {
      "cell_type": "markdown",
      "source": [
        "## Day 6"
      ],
      "metadata": {
        "id": "oAkD7SZxscNb"
      }
    },
    {
      "cell_type": "code",
      "source": [
        "# 수열과 구간 쿼리 2\n",
        "\n",
        "'''\n",
        "문제 설명\n",
        "정수 배열 arr와 2차원 정수 배열 queries이 주어집니다. \n",
        "queries의 원소는 각각 하나의 query를 나타내며, [s, e, k] 꼴입니다.\n",
        "\n",
        "각 query마다 순서대로 s ≤ i ≤ e인 모든 i에 대해 \n",
        "k보다 크면서 가장 작은 arr[i]를 찾습니다.\n",
        "\n",
        "각 쿼리의 순서에 맞게 답을 저장한 배열을 반환하는 solution 함수를 완성해 주세요.\n",
        "단, 특정 쿼리의 답이 존재하지 않으면 -1을 저장합니다.\n",
        "\n",
        "제한사항\n",
        "1 ≤ arr의 길이 ≤ 1,000\n",
        "0 ≤ arr의 원소 ≤ 1,000,000\n",
        "1 ≤ queries의 길이 ≤ 1,000\n",
        "0 ≤ s ≤ e < arr의 길이\n",
        "0 ≤ k ≤ 1,000,000\n",
        "'''\n",
        "\n",
        "arr = [0, 1, 2, 4, 3]\n",
        "queries = [[0, 4, 2],[0, 3, 2],[0, 2, 2]] # s, e, k\n",
        "result = [3, 4, -1]\n",
        "\n",
        "def solution(arr, queries): # 각 query마다이니까, 총 쿼리만큼 반복\n",
        "    moment = []\n",
        "    answer = []\n",
        "    for c, (s, e, k) in enumerate(queries):\n",
        "        moment = []\n",
        "        for i in range(len(arr)):\n",
        "            if s <= i <= e and k < arr[i]:\n",
        "                 moment.append(arr[i])\n",
        "        if moment:\n",
        "            moment.sort()\n",
        "            for x in range(len(moment) - 1):\n",
        "                moment.pop()\n",
        "            answer.extend(moment)\n",
        "        elif moment == []:\n",
        "            answer.append(-1)\n",
        "\n",
        "\n",
        "\n",
        "    return answer\n",
        "\n",
        "solution(arr, queries)\n"
      ],
      "metadata": {
        "id": "uHkFrXXWtFcB"
      },
      "execution_count": null,
      "outputs": []
    },
    {
      "cell_type": "markdown",
      "source": [
        "## Day 7"
      ],
      "metadata": {
        "id": "rkHCeU4UywiW"
      }
    },
    {
      "cell_type": "code",
      "source": [
        "# 수열과 구간 쿼리 4\n",
        "\n",
        "'''\n",
        "문제 설명\n",
        "정수 배열 arr와 2차원 정수 배열 queries이 주어집니다. \n",
        "queries의 원소는 각각 하나의 query를 나타내며, [s, e, k] 꼴입니다.\n",
        "\n",
        "각 query마다 순서대로 s ≤ i ≤ e인 모든 i에 대해 \n",
        "i가 k의 배수이면 arr[i]에 1을 더합니다.\n",
        "\n",
        "위 규칙에 따라 queries를 처리한 이후의 arr를 return 하는 solution 함수를 완성해 주세요.\n",
        "\n",
        "제한사항\n",
        "1 ≤ arr의 길이 ≤ 1,000\n",
        "0 ≤ arr의 원소 ≤ 1,000,000\n",
        "1 ≤ queries의 길이 ≤ 1,000\n",
        "0 ≤ s ≤ e < arr의 길이\n",
        "0 ≤ k ≤ 5\n",
        "'''\n",
        "\n",
        "arr = [0, 1, 2, 4, 3]\n",
        "queries = [[0, 4, 1],[0, 3, 2],[0, 3, 3]]\n",
        "result = [3, 2, 4, 6, 4]\n",
        "\n",
        "def solution(arr, queries):\n",
        "    answer = []\n",
        "    for s, e, k in queries: \n",
        "        for i in range(len(arr)): # i = 0, 1, 2, 3 ...\n",
        "            if s <= i <= e and i % k == 0: # s<=i<=e인 i=0,1,2,3,4 인 arr[i]=1,2,4,3\n",
        "                arr[i] += 1\n",
        "\n",
        "\n",
        "    return arr\n",
        "\n",
        "solution(arr, queries)"
      ],
      "metadata": {
        "colab": {
          "base_uri": "https://localhost:8080/"
        },
        "id": "mUp6TsWmwm9E",
        "outputId": "aa50ebd8-41a0-4005-d271-091b54450ac8"
      },
      "execution_count": 53,
      "outputs": [
        {
          "output_type": "execute_result",
          "data": {
            "text/plain": [
              "[3, 2, 4, 6, 4]"
            ]
          },
          "metadata": {},
          "execution_count": 53
        }
      ]
    },
    {
      "cell_type": "code",
      "source": [
        "# 배열 만들기 2\n",
        "\n",
        "'''\n",
        "문제 설명\n",
        "정수 l과 r이 주어졌을 때, \n",
        "l 이상 r이하의 정수 중에서 숫자 \"0\"과 \"5\"로만 이루어진 모든 정수를 \n",
        "오름차순으로 저장한 배열을 return 하는 solution 함수를 완성해 주세요.\n",
        "\n",
        "만약 그러한 정수가 없다면, -1이 담긴 배열을 return 합니다.\n",
        "\n",
        "제한사항\n",
        "1 ≤ l ≤ r ≤ 1,000,000\n",
        "'''\n",
        "\n",
        "l = 5\n",
        "r = 555\n",
        "# result = [5, 50, 55, 500, 505, 550, 555]\n",
        "\n",
        "# l = 10\n",
        "# r = 20\n",
        "# result = [-1]\n",
        "\n",
        "def solution(l, r):\n",
        "    result = []\n",
        "    for i in range(r+1):\n",
        "        if l <= i <= r:\n",
        "            if '1' in str(i) or '2' in str(i) or '3' in str(i) or '4' in str(i) or '6' in str(i) or '7' in str(i) or '8' in str(i) or '9' in str(i):\n",
        "                pass\n",
        "            else:\n",
        "                result.append(i)\n",
        "    if result == []:\n",
        "        result.append(-1)\n",
        "\n",
        "    return result\n",
        "\n",
        "\n",
        "solution(l, r)\n",
        "\n",
        "\n",
        "# def solution(l, r):\n",
        "#     answer = []\n",
        "#     for num in range(l, r + 1):\n",
        "#         if not set(str(num)) - set(['0', '5']):\n",
        "#             answer.append(num)\n",
        "#     return answer if answer else [-1]"
      ],
      "metadata": {
        "colab": {
          "base_uri": "https://localhost:8080/"
        },
        "id": "zhdCaGaJyaLG",
        "outputId": "14810255-7cbb-4e8b-c1c1-b6efdd2e509a"
      },
      "execution_count": 97,
      "outputs": [
        {
          "output_type": "execute_result",
          "data": {
            "text/plain": [
              "[5, 50, 55, 500, 505, 550, 555]"
            ]
          },
          "metadata": {},
          "execution_count": 97
        }
      ]
    },
    {
      "cell_type": "code",
      "source": [
        "# 카운트 업\n",
        "\n",
        "'''\n",
        "문제 설명\n",
        "정수 start와 end가 주어질 때, \n",
        "start부터 end까지의 숫자를 차례로 담은 리스트를 \n",
        "return하도록 solution 함수를 완성해주세요.\n",
        "\n",
        "0 ≤ start ≤ end ≤ 50\n",
        "'''\n",
        "\n",
        "start = 3\n",
        "end = 10\n",
        "# result = [3, 4, 5, 6, 7, 8, 9, 10]\n",
        "\n",
        "def solution(start, end):\n",
        "    answer = [i for i in (start, end+1)]\n",
        "    for i in range(start, end+1):\n",
        "        answer.append(i)\n",
        "    return answer\n",
        "\n",
        "# def solution(start, end):\n",
        "# return [i for i in range(start,end+1)]"
      ],
      "metadata": {
        "colab": {
          "base_uri": "https://localhost:8080/"
        },
        "id": "UepnhYJa0qeq",
        "outputId": "08d1e556-b041-46c2-9d63-86be84f4e3d7"
      },
      "execution_count": 101,
      "outputs": [
        {
          "output_type": "execute_result",
          "data": {
            "text/plain": [
              "[3, 4, 5, 6, 7, 8, 9, 10]"
            ]
          },
          "metadata": {},
          "execution_count": 101
        }
      ]
    },
    {
      "cell_type": "code",
      "source": [
        "# 콜라츠 수열 만들기\n",
        "'''\n",
        "문제 설명\n",
        "모든 자연수 x에 대해서 현재 값이 x이면 \n",
        "x가 짝수일 때는 2로 나누고, \n",
        "x가 홀수일 때는 3 * x + 1로 바꾸는 계산을 \n",
        "계속해서 반복하면 언젠가는 반드시 x가 1이 되는지 묻는 문제를 \n",
        "콜라츠 문제라고 부릅니다.\n",
        "\n",
        "그리고 위 과정에서 거쳐간 모든 수를 기록한 수열을 콜라츠 수열이라고 부릅니다.\n",
        "\n",
        "계산 결과 1,000 보다 작거나 같은 수에 대해서는 \n",
        "전부 언젠가 1에 도달한다는 것이 알려져 있습니다.\n",
        "\n",
        "임의의 1,000 보다 작거나 같은 양의 정수 n이 주어질 때 \n",
        "초기값이 n인 콜라츠 수열을 return 하는 solution 함수를 완성해 주세요.\n",
        "\n",
        "제한사항\n",
        "1 ≤ n ≤ 1,000\n",
        "'''\n",
        "\n",
        "n = 10\n",
        "# result = [10, 5, 16, 8, 4, 2, 1]\n",
        "\n",
        "def solution(n):\n",
        "    result = []\n",
        "    while n != 1:\n",
        "        result.append(round(n))\n",
        "        if n % 2 == 0:\n",
        "            n /= 2\n",
        "        else:\n",
        "            n = (3 * n) + 1\n",
        "    result.append(round(n))\n",
        "    return result\n",
        "\n",
        "solution(n)"
      ],
      "metadata": {
        "colab": {
          "base_uri": "https://localhost:8080/"
        },
        "id": "-vQxnupXAuh1",
        "outputId": "4df6ec48-52e0-4e84-cf89-60394606054c"
      },
      "execution_count": 110,
      "outputs": [
        {
          "output_type": "execute_result",
          "data": {
            "text/plain": [
              "[10, 5, 16, 8, 4, 2, 1]"
            ]
          },
          "metadata": {},
          "execution_count": 110
        }
      ]
    },
    {
      "cell_type": "code",
      "source": [
        "# 배열 만들기 4\n",
        "\n",
        "'''\n",
        "문제 설명\n",
        "정수 배열 arr가 주어집니다. arr를 이용해 새로운 배열 stk를 만드려고 합니다.\n",
        "\n",
        "변수 i를 만들어 초기값을 0으로 설정한 후 i가 arr의 길이보다 작으면 다음 작업을 반복합니다.\n",
        "\n",
        "만약 stk가 빈 배열이라면 arr[i]를 stk에 추가하고 i에 1을 더합니다.\n",
        "stk에 원소가 있고, stk의 마지막 원소가 arr[i]보다 작으면 arr[i]를 stk의 뒤에 추가하고 i에 1을 더합니다.\n",
        "stk에 원소가 있는데 stk의 마지막 원소가 arr[i]보다 크거나 같으면 stk의 마지막 원소를 stk에서 제거합니다.\n",
        "위 작업을 마친 후 만들어진 stk를 return 하는 solution 함수를 완성해 주세요.\n",
        "\n",
        "1 ≤ arr의 길이 ≤ 100,000\n",
        "1 ≤ arr의 원소 ≤ 100,000\n",
        "'''\n",
        "\n",
        "arr = [1, 4, 2, 5, 3]\n",
        "# result = [1, 2, 3]\n",
        "\n",
        "def solution(arr):\n",
        "    stk = []\n",
        "    i = 0\n",
        "    while i < len(arr):\n",
        "        if stk == []:\n",
        "            stk.append(arr[i])\n",
        "            i += 1\n",
        "        elif stk != [] and stk[-1] < arr[i]:\n",
        "            stk.append(arr[i])\n",
        "            i += 1\n",
        "        elif stk != [] and stk[-1] >= arr[i]:\n",
        "            stk.pop()\n",
        "    return stk\n",
        "solution(arr)\n",
        "\n",
        "# def solution(arr):\n",
        "#     stk = []\n",
        "#     for i in range(len(arr)):\n",
        "#         while stk and stk[-1] >= arr[i]:\n",
        "#             stk.pop()\n",
        "#         stk.append(arr[i])\n",
        "#     return stk"
      ],
      "metadata": {
        "colab": {
          "base_uri": "https://localhost:8080/"
        },
        "id": "UtGDXswPBj3H",
        "outputId": "dc78464b-4d01-4b2d-a3e3-7103fe1bae01"
      },
      "execution_count": 112,
      "outputs": [
        {
          "output_type": "execute_result",
          "data": {
            "text/plain": [
              "[1, 2, 3]"
            ]
          },
          "metadata": {},
          "execution_count": 112
        }
      ]
    },
    {
      "cell_type": "code",
      "source": [],
      "metadata": {
        "id": "z8_y5juwDZrE"
      },
      "execution_count": null,
      "outputs": []
    }
  ]
}