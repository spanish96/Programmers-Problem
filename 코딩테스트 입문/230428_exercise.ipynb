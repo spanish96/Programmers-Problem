{
  "nbformat": 4,
  "nbformat_minor": 0,
  "metadata": {
    "colab": {
      "provenance": []
    },
    "kernelspec": {
      "name": "python3",
      "display_name": "Python 3"
    },
    "language_info": {
      "name": "python"
    }
  },
  "cells": [
    {
      "cell_type": "markdown",
      "source": [
        "# 코딩테스트 입문"
      ],
      "metadata": {
        "id": "lxiFj0t5BFPq"
      }
    },
    {
      "cell_type": "markdown",
      "source": [
        "## Day 1 사칙연산"
      ],
      "metadata": {
        "id": "yzT0Gp5bANOL"
      }
    },
    {
      "cell_type": "code",
      "source": [
        "# 두 수의 합\n",
        "\n",
        "def solution(num1, num2):\n",
        "    answer = num1 + num2\n",
        "    return answer"
      ],
      "metadata": {
        "id": "fWLyukleARXC"
      },
      "execution_count": null,
      "outputs": []
    },
    {
      "cell_type": "code",
      "source": [
        "# 두 수의 차\n",
        "\n",
        "def solution(num1, num2):\n",
        "    answer = num1 - num2\n",
        "    return answer"
      ],
      "metadata": {
        "id": "1iSkp9b6AZp_"
      },
      "execution_count": null,
      "outputs": []
    },
    {
      "cell_type": "code",
      "source": [
        "# 두 수의 곱\n",
        "\n",
        "def solution(num1, num2):\n",
        "    answer = num1*num2\n",
        "    return answer"
      ],
      "metadata": {
        "id": "3T7uF5VDAcyZ"
      },
      "execution_count": null,
      "outputs": []
    },
    {
      "cell_type": "code",
      "source": [
        "# 몫 구하기\n",
        "\n",
        "def solution(num1, num2):\n",
        "    answer = num1 // num2\n",
        "    return answer"
      ],
      "metadata": {
        "id": "EZiyop7fAgXA"
      },
      "execution_count": null,
      "outputs": []
    },
    {
      "cell_type": "markdown",
      "source": [
        "## Day2 사칙연산, 조건문, 배열"
      ],
      "metadata": {
        "id": "jzEVIVSJgMXt"
      }
    },
    {
      "cell_type": "code",
      "source": [
        "# 두 수의 나눗셈\n",
        "\n",
        "def solution(num1, num2):\n",
        "    answer = (num1 / num2) * 1000\n",
        "    return int(answer)"
      ],
      "metadata": {
        "id": "zVj882K6gY1P"
      },
      "execution_count": null,
      "outputs": []
    },
    {
      "cell_type": "code",
      "source": [
        "# 숫자 비교하기\n",
        "\n",
        "def solution(num1, num2):\n",
        "    if num1 == num2:\n",
        "        answer =  1\n",
        "    if num1 != num2:\n",
        "        answer = -1\n",
        "    return answer"
      ],
      "metadata": {
        "id": "_XkStn1ygc6K"
      },
      "execution_count": null,
      "outputs": []
    },
    {
      "cell_type": "markdown",
      "source": [
        "### 분수의 덧셈(런타임 에러)"
      ],
      "metadata": {
        "id": "zf5aC_Og_tkr"
      }
    },
    {
      "cell_type": "code",
      "source": [
        "def solution(numer1, denom1, numer2, denom2):\n",
        "    if numer1 and denom1 and numer2 and denom2 == 0:\n",
        "        pass\n",
        "    elif denom1 == denom2:\n",
        "        c = numer1 + numer2\n",
        "        d = denom1\n",
        "    elif denom1 > denom2 and denom1 % denom2 == 0:\n",
        "        c = numer2 * (denom1 // denom2) + numer1\n",
        "        d = denom1\n",
        "    elif denom2 > denom1 and denom2 % denom1 == 0:\n",
        "        c = numer1 * (denom2 // denom1) + numer2\n",
        "        d = denom2\n",
        "    elif denom1 > denom2 and denom1 % denom2 != 0:\n",
        "        c = numer1*denom2 + numer2*denom1\n",
        "        d = denom1*denom2\n",
        "    elif denom2 > denom1 and denom2 % denom1 != 0:\n",
        "        c = numer1*denom2 + numer2*denom1\n",
        "        d = denom1*denom2  \n",
        "    if c > d:\n",
        "        for i in range(d+1):\n",
        "            if i == 0:\n",
        "                continue\n",
        "            elif (d % i == 0) and (c % i == 0):\n",
        "                a = c // i\n",
        "                b = d // i\n",
        "    if d > c:\n",
        "        for i in range(c+1):\n",
        "            if c or d == 0:\n",
        "                pass\n",
        "            elif (d % i == 0) and (c % i == 0):\n",
        "                a = c // i\n",
        "                b = d // i\n",
        "                \n",
        "    \n",
        "    return (a, b)\n",
        "\n",
        "solution(1,2,3,4)"
      ],
      "metadata": {
        "colab": {
          "base_uri": "https://localhost:8080/"
        },
        "id": "WlnIW928TMly",
        "outputId": "ab7035e9-0eae-45bf-9db3-a8c318668a25"
      },
      "execution_count": 45,
      "outputs": [
        {
          "output_type": "execute_result",
          "data": {
            "text/plain": [
              "(5, 4)"
            ]
          },
          "metadata": {},
          "execution_count": 45
        }
      ]
    },
    {
      "cell_type": "code",
      "source": [
        "# 배열 두배 만들기\n",
        "\n",
        "def solution(numbers):\n",
        "    answer = []   \n",
        "    for i in range(len(numbers)):\n",
        "        answer.append(numbers[i]*2)\n",
        "\n",
        "    return answer"
      ],
      "metadata": {
        "id": "Fc6ouWv5gjto"
      },
      "execution_count": null,
      "outputs": []
    }
  ]
}